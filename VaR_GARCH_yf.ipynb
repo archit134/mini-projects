{
  "cells": [
    {
      "cell_type": "markdown",
      "metadata": {},
      "source": [
        "# Value at Risk (VaR) and GARCH Model Analysis\n",
        "\n",
        "There are several methods to evaluate risk for an individual stock or a portfolio, such as variance, standard deviation of returns, et al. But, those measures do not consider a probability distribution. However, many risk managers prefer a simple measure called Value at Risk (VaR).\n",
        "\n",
        "**VaR** is one of the most important metrics that is used to measure the risk associated with a financial position or a portfolio of financial instruments and can be defined as\n",
        "\n",
        "`the maximum loss with a confidence level over a predetermined period`.\n",
        "\n",
        "Let's say that the 1-day 95% VaR of our portfolio is $100. This means that 95% of the time, it is expected that - under normal market conditions - we will not lose more than $100 by holding our portfolio over one day.\n",
        "\n",
        "Some of the approaches that are commonly used in the industry are covered in this analysis."
      ]
    },
    {
      "cell_type": "markdown",
      "metadata": {},
      "source": [
        "## Install Packages\n",
        "\n",
        "Install the following packages (if not done already)."
      ]
    },
    {
      "cell_type": "code",
      "execution_count": null,
      "metadata": {},
      "outputs": [],
      "source": []
    },
    {
      "cell_type": "markdown",
      "metadata": {},
      "source": [
        "## Import Libraries\n",
        "\n",
        "We'll import the required libraries that we'll use in this example."
      ]
    },
    {
      "cell_type": "code",
      "execution_count": 1,
      "metadata": {},
      "outputs": [],
      "source": [
        "# Import warnings\n",
        "import warnings\n",
        "warnings.filterwarnings('ignore')\n",
        "\n",
        "# Import data manipulation libraries\n",
        "import pandas as pd\n",
        "import numpy as np\n",
        "from pprint import pprint\n",
        "from collections import OrderedDict\n",
        "from numpy.linalg import multi_dot\n",
        "from scipy import stats\n",
        "from tabulate import tabulate\n",
        "\n",
        "# Import Yahoo Finance\n",
        "import yfinance as yf\n",
        "\n",
        "# Import plotly express\n",
        "import plotly.express as px\n",
        "px.defaults.width, px.defaults.height = 1000, 600\n",
        "\n",
        "# Set precision\n",
        "pd.set_option('display.precision', 4)"
      ]
    },
    {
      "cell_type": "markdown",
      "metadata": {},
      "source": [
        "## Retrieve Data from Yahoo Finance\n",
        "\n",
        "We will retrieve stock prices from Yahoo Finance to build for VaR calculation. We'll use Indian stock symbols with .NS suffix for NSE (National Stock Exchange)."
      ]
    },
    {
      "cell_type": "code",
      "execution_count": 2,
      "metadata": {},
      "outputs": [
        {
          "name": "stdout",
          "output_type": "stream",
          "text": [
            "Assets to download: ['ICICIBANK.NS', 'ITC.NS', 'RELIANCE.NS', 'TCS.NS', 'ASIANPAINT.NS']\n"
          ]
        }
      ],
      "source": [
        "# Specify assets / stocks with NSE suffix\n",
        "assets = ['ICICIBANK.NS', 'ITC.NS', 'RELIANCE.NS', 'TCS.NS', 'ASIANPAINT.NS']\n",
        "asset_names = ['ICICIBANK', 'ITC', 'RELIANCE', 'TCS', 'ASIANPAINT']\n",
        "print(\"Assets to download:\", assets)"
      ]
    },
    {
      "cell_type": "code",
      "execution_count": 3,
      "metadata": {},
      "outputs": [
        {
          "name": "stderr",
          "output_type": "stream",
          "text": [
            "[*********************100%***********************]  5 of 5 completed"
          ]
        },
        {
          "name": "stdout",
          "output_type": "stream",
          "text": [
            "Data shape: (496, 5)\n",
            "Date range: 2023-09-26 00:00:00 to 2025-09-26 00:00:00\n"
          ]
        },
        {
          "name": "stderr",
          "output_type": "stream",
          "text": [
            "\n"
          ]
        },
        {
          "data": {
            "text/html": [
              "<div>\n",
              "<style scoped>\n",
              "    .dataframe tbody tr th:only-of-type {\n",
              "        vertical-align: middle;\n",
              "    }\n",
              "\n",
              "    .dataframe tbody tr th {\n",
              "        vertical-align: top;\n",
              "    }\n",
              "\n",
              "    .dataframe thead th {\n",
              "        text-align: right;\n",
              "    }\n",
              "</style>\n",
              "<table border=\"1\" class=\"dataframe\">\n",
              "  <thead>\n",
              "    <tr style=\"text-align: right;\">\n",
              "      <th></th>\n",
              "      <th>ICICIBANK</th>\n",
              "      <th>ITC</th>\n",
              "      <th>RELIANCE</th>\n",
              "      <th>TCS</th>\n",
              "      <th>ASIANPAINT</th>\n",
              "    </tr>\n",
              "    <tr>\n",
              "      <th>Date</th>\n",
              "      <th></th>\n",
              "      <th></th>\n",
              "      <th></th>\n",
              "      <th></th>\n",
              "      <th></th>\n",
              "    </tr>\n",
              "  </thead>\n",
              "  <tbody>\n",
              "    <tr>\n",
              "      <th>2023-09-26</th>\n",
              "      <td>3220.2810</td>\n",
              "      <td>933.4004</td>\n",
              "      <td>414.1580</td>\n",
              "      <td>1162.6448</td>\n",
              "      <td>3474.4810</td>\n",
              "    </tr>\n",
              "    <tr>\n",
              "      <th>2023-09-27</th>\n",
              "      <td>3229.0828</td>\n",
              "      <td>927.8906</td>\n",
              "      <td>420.4296</td>\n",
              "      <td>1175.7478</td>\n",
              "      <td>3477.9692</td>\n",
              "    </tr>\n",
              "    <tr>\n",
              "      <th>2023-09-28</th>\n",
              "      <td>3100.5281</td>\n",
              "      <td>927.3987</td>\n",
              "      <td>412.5667</td>\n",
              "      <td>1158.4757</td>\n",
              "      <td>3427.0493</td>\n",
              "    </tr>\n",
              "    <tr>\n",
              "      <th>2023-09-29</th>\n",
              "      <td>3091.4326</td>\n",
              "      <td>936.5488</td>\n",
              "      <td>415.9833</td>\n",
              "      <td>1163.8856</td>\n",
              "      <td>3419.1523</td>\n",
              "    </tr>\n",
              "    <tr>\n",
              "      <th>2023-10-03</th>\n",
              "      <td>3097.1050</td>\n",
              "      <td>925.1358</td>\n",
              "      <td>411.6307</td>\n",
              "      <td>1150.5592</td>\n",
              "      <td>3404.8601</td>\n",
              "    </tr>\n",
              "  </tbody>\n",
              "</table>\n",
              "</div>"
            ],
            "text/plain": [
              "            ICICIBANK       ITC  RELIANCE        TCS  ASIANPAINT\n",
              "Date                                                            \n",
              "2023-09-26  3220.2810  933.4004  414.1580  1162.6448   3474.4810\n",
              "2023-09-27  3229.0828  927.8906  420.4296  1175.7478   3477.9692\n",
              "2023-09-28  3100.5281  927.3987  412.5667  1158.4757   3427.0493\n",
              "2023-09-29  3091.4326  936.5488  415.9833  1163.8856   3419.1523\n",
              "2023-10-03  3097.1050  925.1358  411.6307  1150.5592   3404.8601"
            ]
          },
          "execution_count": 3,
          "metadata": {},
          "output_type": "execute_result"
        }
      ],
      "source": [
        "# Download stock data from Yahoo Finance\n",
        "# Set the period for data download (e.g., 2 years of data)\n",
        "df = yf.download(assets, period=\"2y\", interval=\"1d\")['Close']\n",
        "\n",
        "# Rename columns to remove .NS suffix for cleaner column names\n",
        "df.columns = asset_names\n",
        "\n",
        "# View dataframe\n",
        "print(f\"Data shape: {df.shape}\")\n",
        "print(f\"Date range: {df.index[0]} to {df.index[-1]}\")\n",
        "df.head()"
      ]
    },
    {
      "cell_type": "code",
      "execution_count": 4,
      "metadata": {},
      "outputs": [
        {
          "name": "stdout",
          "output_type": "stream",
          "text": [
            "Data shape after removing NaN: (496, 5)\n"
          ]
        },
        {
          "data": {
            "text/html": [
              "<div>\n",
              "<style scoped>\n",
              "    .dataframe tbody tr th:only-of-type {\n",
              "        vertical-align: middle;\n",
              "    }\n",
              "\n",
              "    .dataframe tbody tr th {\n",
              "        vertical-align: top;\n",
              "    }\n",
              "\n",
              "    .dataframe thead th {\n",
              "        text-align: right;\n",
              "    }\n",
              "</style>\n",
              "<table border=\"1\" class=\"dataframe\">\n",
              "  <thead>\n",
              "    <tr style=\"text-align: right;\">\n",
              "      <th></th>\n",
              "      <th>ICICIBANK</th>\n",
              "      <th>ITC</th>\n",
              "      <th>RELIANCE</th>\n",
              "      <th>TCS</th>\n",
              "      <th>ASIANPAINT</th>\n",
              "    </tr>\n",
              "    <tr>\n",
              "      <th>Date</th>\n",
              "      <th></th>\n",
              "      <th></th>\n",
              "      <th></th>\n",
              "      <th></th>\n",
              "      <th></th>\n",
              "    </tr>\n",
              "  </thead>\n",
              "  <tbody>\n",
              "    <tr>\n",
              "      <th>2025-09-22</th>\n",
              "      <td>2482.7000</td>\n",
              "      <td>1401.5</td>\n",
              "      <td>406.95</td>\n",
              "      <td>1390.6</td>\n",
              "      <td>3073.8000</td>\n",
              "    </tr>\n",
              "    <tr>\n",
              "      <th>2025-09-23</th>\n",
              "      <td>2446.8999</td>\n",
              "      <td>1394.3</td>\n",
              "      <td>403.20</td>\n",
              "      <td>1389.8</td>\n",
              "      <td>3062.3999</td>\n",
              "    </tr>\n",
              "    <tr>\n",
              "      <th>2025-09-24</th>\n",
              "      <td>2457.2000</td>\n",
              "      <td>1382.7</td>\n",
              "      <td>401.00</td>\n",
              "      <td>1383.0</td>\n",
              "      <td>3035.3999</td>\n",
              "    </tr>\n",
              "    <tr>\n",
              "      <th>2025-09-25</th>\n",
              "      <td>2404.0000</td>\n",
              "      <td>1375.8</td>\n",
              "      <td>400.10</td>\n",
              "      <td>1372.4</td>\n",
              "      <td>2957.3999</td>\n",
              "    </tr>\n",
              "    <tr>\n",
              "      <th>2025-09-26</th>\n",
              "      <td>2342.8000</td>\n",
              "      <td>1359.6</td>\n",
              "      <td>405.10</td>\n",
              "      <td>1377.6</td>\n",
              "      <td>2899.1001</td>\n",
              "    </tr>\n",
              "  </tbody>\n",
              "</table>\n",
              "</div>"
            ],
            "text/plain": [
              "            ICICIBANK     ITC  RELIANCE     TCS  ASIANPAINT\n",
              "Date                                                       \n",
              "2025-09-22  2482.7000  1401.5    406.95  1390.6   3073.8000\n",
              "2025-09-23  2446.8999  1394.3    403.20  1389.8   3062.3999\n",
              "2025-09-24  2457.2000  1382.7    401.00  1383.0   3035.3999\n",
              "2025-09-25  2404.0000  1375.8    400.10  1372.4   2957.3999\n",
              "2025-09-26  2342.8000  1359.6    405.10  1377.6   2899.1001"
            ]
          },
          "execution_count": 4,
          "metadata": {},
          "output_type": "execute_result"
        }
      ],
      "source": [
        "# Handle any missing data\n",
        "df = df.dropna()\n",
        "print(f\"Data shape after removing NaN: {df.shape}\")\n",
        "df.tail()"
      ]
    },
    {
      "cell_type": "code",
      "execution_count": 5,
      "metadata": {},
      "outputs": [
        {
          "name": "stdout",
          "output_type": "stream",
          "text": [
            "Returns shape: (495, 5)\n"
          ]
        },
        {
          "data": {
            "text/html": [
              "<div>\n",
              "<style scoped>\n",
              "    .dataframe tbody tr th:only-of-type {\n",
              "        vertical-align: middle;\n",
              "    }\n",
              "\n",
              "    .dataframe tbody tr th {\n",
              "        vertical-align: top;\n",
              "    }\n",
              "\n",
              "    .dataframe thead th {\n",
              "        text-align: right;\n",
              "    }\n",
              "</style>\n",
              "<table border=\"1\" class=\"dataframe\">\n",
              "  <thead>\n",
              "    <tr style=\"text-align: right;\">\n",
              "      <th></th>\n",
              "      <th>ICICIBANK</th>\n",
              "      <th>ITC</th>\n",
              "      <th>RELIANCE</th>\n",
              "      <th>TCS</th>\n",
              "      <th>ASIANPAINT</th>\n",
              "    </tr>\n",
              "    <tr>\n",
              "      <th>Date</th>\n",
              "      <th></th>\n",
              "      <th></th>\n",
              "      <th></th>\n",
              "      <th></th>\n",
              "      <th></th>\n",
              "    </tr>\n",
              "  </thead>\n",
              "  <tbody>\n",
              "    <tr>\n",
              "      <th>2023-09-27</th>\n",
              "      <td>0.0027</td>\n",
              "      <td>-0.0059</td>\n",
              "      <td>0.0151</td>\n",
              "      <td>0.0113</td>\n",
              "      <td>0.0010</td>\n",
              "    </tr>\n",
              "    <tr>\n",
              "      <th>2023-09-28</th>\n",
              "      <td>-0.0398</td>\n",
              "      <td>-0.0005</td>\n",
              "      <td>-0.0187</td>\n",
              "      <td>-0.0147</td>\n",
              "      <td>-0.0146</td>\n",
              "    </tr>\n",
              "    <tr>\n",
              "      <th>2023-09-29</th>\n",
              "      <td>-0.0029</td>\n",
              "      <td>0.0099</td>\n",
              "      <td>0.0083</td>\n",
              "      <td>0.0047</td>\n",
              "      <td>-0.0023</td>\n",
              "    </tr>\n",
              "    <tr>\n",
              "      <th>2023-10-03</th>\n",
              "      <td>0.0018</td>\n",
              "      <td>-0.0122</td>\n",
              "      <td>-0.0105</td>\n",
              "      <td>-0.0114</td>\n",
              "      <td>-0.0042</td>\n",
              "    </tr>\n",
              "    <tr>\n",
              "      <th>2023-10-04</th>\n",
              "      <td>0.0010</td>\n",
              "      <td>-0.0109</td>\n",
              "      <td>-0.0083</td>\n",
              "      <td>-0.0017</td>\n",
              "      <td>0.0068</td>\n",
              "    </tr>\n",
              "  </tbody>\n",
              "</table>\n",
              "</div>"
            ],
            "text/plain": [
              "            ICICIBANK     ITC  RELIANCE     TCS  ASIANPAINT\n",
              "Date                                                       \n",
              "2023-09-27     0.0027 -0.0059    0.0151  0.0113      0.0010\n",
              "2023-09-28    -0.0398 -0.0005   -0.0187 -0.0147     -0.0146\n",
              "2023-09-29    -0.0029  0.0099    0.0083  0.0047     -0.0023\n",
              "2023-10-03     0.0018 -0.0122   -0.0105 -0.0114     -0.0042\n",
              "2023-10-04     0.0010 -0.0109   -0.0083 -0.0017      0.0068"
            ]
          },
          "execution_count": 5,
          "metadata": {},
          "output_type": "execute_result"
        }
      ],
      "source": [
        "# Calculate daily returns\n",
        "returns = df.pct_change().dropna()\n",
        "print(f\"Returns shape: {returns.shape}\")\n",
        "returns.head()"
      ]
    },
    {
      "cell_type": "markdown",
      "metadata": {},
      "source": [
        "## Parametric VaR (Variance-Covariance Method)\n",
        "\n",
        "The Variance-covariance is a parametric method which assumes (almost always) that the returns are normally distributed. In this method, we first calculate the mean and standard deviation of the returns to derive the risk metric. Based on the assumption of normality, we can generalise:\n",
        "\n",
        "$$ VaR = position * (\\mu - z * \\sigma) $$\n",
        "\n",
        "|Confidence Level|Value At Risk|\n",
        "|--|--|\n",
        "|`90%`|$\\mu$ - $1.29$ * $\\sigma$|\n",
        "|`95%`|$\\mu$ - $1.64$ * $\\sigma$|\n",
        "|`99%`|$\\mu$ - $2.33$ * $\\sigma$|\n",
        "\n",
        "where, $\\mu$ is the mean return, $\\sigma$ is the volatility and $z$ is the number of standard deviation from the mean."
      ]
    },
    {
      "cell_type": "code",
      "execution_count": 6,
      "metadata": {},
      "outputs": [
        {
          "name": "stdout",
          "output_type": "stream",
          "text": [
            "Mean daily return: -0.000564\n",
            "Daily volatility: 0.012516\n"
          ]
        }
      ],
      "source": [
        "# Stock returns for ICICIBANK\n",
        "stockreturn = returns['ICICIBANK']\n",
        "\n",
        "# Calculate mean and standard deviation\n",
        "mean = np.mean(stockreturn)\n",
        "stdev = np.std(stockreturn)\n",
        "\n",
        "print(f\"Mean daily return: {mean:.6f}\")\n",
        "print(f\"Daily volatility: {stdev:.6f}\")\n",
        "\n",
        "# Calculate VaR at different confidence levels\n",
        "VaR_90 = stats.norm.ppf(1-0.90, mean, stdev)\n",
        "VaR_95 = stats.norm.ppf(1-0.95, mean, stdev)\n",
        "VaR_99 = stats.norm.ppf(1-0.99, mean, stdev)"
      ]
    },
    {
      "cell_type": "code",
      "execution_count": 7,
      "metadata": {},
      "outputs": [
        {
          "name": "stdout",
          "output_type": "stream",
          "text": [
            "Confidence Level      Value At Risk\n",
            "------------------  ---------------\n",
            "90%                       -0.016603\n",
            "95%                       -0.021150\n",
            "99%                       -0.029680\n"
          ]
        }
      ],
      "source": [
        "# Output results in tabular format\n",
        "table = [['90%', VaR_90], ['95%', VaR_95], ['99%', VaR_99]]\n",
        "header = ['Confidence Level', 'Value At Risk']\n",
        "print(tabulate(table, headers=header, floatfmt='.6f'))"
      ]
    },
    {
      "cell_type": "markdown",
      "metadata": {},
      "source": [
        "## Historical VaR\n",
        "\n",
        "Asset returns do not necessarily follow a normal distribution. An alternative is to use sorted returns to evaluate a VaR. This method uses historical data where returns are sorted in ascending order to calculate maximum possible loss for a given confidence level."
      ]
    },
    {
      "cell_type": "code",
      "execution_count": 8,
      "metadata": {},
      "outputs": [],
      "source": [
        "# Use quantile function for Historical VaR\n",
        "hVaR_90 = returns['ICICIBANK'].quantile(0.10)\n",
        "hVaR_95 = returns['ICICIBANK'].quantile(0.05)\n",
        "hVaR_99 = returns['ICICIBANK'].quantile(0.01)"
      ]
    },
    {
      "cell_type": "code",
      "execution_count": 9,
      "metadata": {},
      "outputs": [
        {
          "name": "stdout",
          "output_type": "stream",
          "text": [
            "Confidence Level      Value At Risk\n",
            "------------------  ---------------\n",
            "90%                       -0.014520\n",
            "95%                       -0.020542\n",
            "99%                       -0.035347\n"
          ]
        }
      ],
      "source": [
        "# Output results in tabular format\n",
        "htable = [['90%', hVaR_90], ['95%', hVaR_95], ['99%', hVaR_99]]\n",
        "print(tabulate(htable, headers=header, floatfmt='.6f'))"
      ]
    },
    {
      "cell_type": "markdown",
      "metadata": {},
      "source": [
        "## Monte Carlo VaR\n",
        "\n",
        "The Monte Carlo simulation approach has a number of similarities to historical simulation. It allows us to use actual historical distributions rather than having to assume normal returns. As returns are assumed to follow a normal distribution, we could generate simulated returns with the same mean and standard deviation (derived from the daily returns) and then sorted in ascending order to calculate maximum possible loss for a given confidence level."
      ]
    },
    {
      "cell_type": "code",
      "execution_count": 10,
      "metadata": {},
      "outputs": [],
      "source": [
        "# Set seed for reproducibility\n",
        "np.random.seed(42)\n",
        "\n",
        "# Number of simulations\n",
        "n_sims = 5000\n",
        "\n",
        "# Simulate returns and sort\n",
        "sim_returns = np.random.normal(mean, stdev, n_sims)\n",
        "\n",
        "# Use percentile function for MCVaR\n",
        "MCVaR_90 = np.percentile(sim_returns, 10)\n",
        "MCVaR_95 = np.percentile(sim_returns, 5)\n",
        "MCVaR_99 = np.percentile(sim_returns, 1)"
      ]
    },
    {
      "cell_type": "code",
      "execution_count": 11,
      "metadata": {},
      "outputs": [
        {
          "name": "stdout",
          "output_type": "stream",
          "text": [
            "Confidence Level      Value At Risk\n",
            "------------------  ---------------\n",
            "90%                       -0.016451\n",
            "95%                       -0.020760\n",
            "99%                       -0.030139\n"
          ]
        }
      ],
      "source": [
        "# Output results in tabular format\n",
        "mctable = [['90%', MCVaR_90], ['95%', MCVaR_95], ['99%', MCVaR_99]]\n",
        "print(tabulate(mctable, headers=header, floatfmt='.6f'))"
      ]
    },
    {
      "cell_type": "markdown",
      "metadata": {},
      "source": [
        "## Testing for Normality\n",
        "\n",
        "In the Parametric VaR, we assumed that the returns are normally distributed. However, in the real world, we know that stock / portfolio returns do not necessarily follow a normal distribution. Let's perform a quick check to determine the normality of the underlying returns and see whether we need to modify our approach in deriving the VaR numbers.\n",
        "\n",
        "The Shapiro-Wilk test is a test of normality and is used to determine whether or not a sample comes from a normal distribution."
      ]
    },
    {
      "cell_type": "code",
      "execution_count": 12,
      "metadata": {},
      "outputs": [
        {
          "name": "stdout",
          "output_type": "stream",
          "text": [
            "Shapiro-Wilk Test:\n",
            "Statistic: 0.953609\n",
            "P-value: 0.000000\n",
            "Result: Not normal distribution\n"
          ]
        }
      ],
      "source": [
        "# Normality test\n",
        "shapiro_stat, shapiro_p = stats.shapiro(stockreturn)\n",
        "print(f\"Shapiro-Wilk Test:\")\n",
        "print(f\"Statistic: {shapiro_stat:.6f}\")\n",
        "print(f\"P-value: {shapiro_p:.6f}\")\n",
        "print(f\"Result: {'Normal distribution' if shapiro_p > 0.05 else 'Not normal distribution'}\")"
      ]
    },
    {
      "cell_type": "markdown",
      "metadata": {},
      "source": [
        "Our null hypothesis is that the stock's daily returns follows a normal distribution. Since the p-value is less than 0.05, we reject the null hypothesis. We have sufficient evidence to say that the sample data does not come from a normal distribution.\n",
        "\n",
        "Alternatively, we can perform an Anderson-Darling Test. It is a goodness of fit test that measures how well the data fit a specified distribution."
      ]
    },
    {
      "cell_type": "code",
      "execution_count": 13,
      "metadata": {},
      "outputs": [
        {
          "name": "stdout",
          "output_type": "stream",
          "text": [
            "Anderson-Darling Test:\n",
            "Statistic: 4.257632\n",
            "Critical Values: [0.571 0.651 0.781 0.911 1.083]\n",
            "Significance Levels: [15.  10.   5.   2.5  1. ]\n"
          ]
        }
      ],
      "source": [
        "# Anderson-Darling normality test\n",
        "anderson_result = stats.anderson(stockreturn)\n",
        "print(f\"Anderson-Darling Test:\")\n",
        "print(f\"Statistic: {anderson_result.statistic:.6f}\")\n",
        "print(f\"Critical Values: {anderson_result.critical_values}\")\n",
        "print(f\"Significance Levels: {anderson_result.significance_level}\")"
      ]
    },
    {
      "cell_type": "code",
      "execution_count": 14,
      "metadata": {},
      "outputs": [
        {
          "data": {
            "application/vnd.plotly.v1+json": {
              "config": {
                "plotlyServerURL": "https://plot.ly"
              },
              "data": [
                {
                  "bingroup": "x",
                  "histnorm": "probability density",
                  "hovertemplate": "Daily Returns=%{x}<br>probability density=%{y}<extra></extra>",
                  "legendgroup": "",
                  "marker": {
                    "color": "#636efa",
                    "pattern": {
                      "shape": ""
                    }
                  },
                  "name": "",
                  "nbinsx": 50,
                  "orientation": "v",
                  "showlegend": false,
                  "type": "histogram",
                  "x": {
                    "bdata": "AGob4P1jZj/wjxriLGKkvwBrCDAJCGi/AFBL6PsPXj8AePAx/I1PPwCz29gnfIc/AJhCqOXTar9AVoQBTIaLvwDQYy8UBTu/ACc1BrIdcD8A/uxwpdpYvwAooXmotWq/AO+24Qfnh78AAPMvppU/P4Bx9F79fna/AJgsIjNPXD8A4Pm9qGRVP4AcdwUaUoa/AMIEr+Pdbb+w72eesM+gvwCcFwXYgFy/ADI7/kmQcD8AIHjxmr2DP6APxu4I55S/ALadqxIafT+AhY0P4iiDP4DfGXsxsZE/AEhDd0bnVT+AZFRmc+WUPwDGppuH6nO/AJx96QzyU78AymlPXl1oP4Bwh65UT4Q/ADMmDZmIcj+AfVNOBUGJPwDCRw+Kc4K/AGl5wk+FYr8AIMy3hukUvwBjHhtOR2q/AINrhgdQcT8AdtliWN5vPwAAAAAAAAAAAOH7urqBgr/AeYQEPo+RPwA9cvN9THs/AF/mbZ5ShD+Akc/q4bGAPwCQ70ktNS6/AA+C7cfweL8AcD7QP0c0PwDmcMR052S/AGkwjpEBeD8AMAIv6jtHvwCBy1hy65Y/AGrjGSJvdj8AGLUFv6pTP4CWzkdy4Ye/ALjQuSHSXD8AfkHkcseHPwClS7wZxok/ABDf2WGLeT8ACTopN1NhvwDIRjNU1lg/AKA5AnVWXr8A4Iz2MepWv4ANRdUmcHW/AFTJ+WnWXj+ABf0/pJF9v8BUSnK1cJG/gAqtHZUvg78AjffRl0F4PwCQco5D6To/ACkPq8Xoab8AUM44135TvwDpv0GExnw/IEcojVn1kL+A28/twsaYvwAwdcERt0Q/QOg0j9X5ob8A3W5WXIWSv8A8fNy6J5G/gJVYTTGlgj8AH81urjV+vwD4i1ACzFQ/QHffvb27g78APCzv9W9jPwBgxVVZb3q/AHvyFzoYcz9Anocz3omRPwBudiTytJG/AGQShhHUfj8ASOTYYt9HPwBrz17mrng/AFDX9OR2Wj+ASKc8Y6CLPwD+Y+wHfme/AJc7mk6war8AyF0A4IJyPwAGBvqtymq/AGV+PzNJdT/AGaSplliFv5Ch/bfOJaS/AH6YRLxqab/A8gfDGVmXvwBTVUAKMYQ/ANR/hz2YbD8AAAAAAAAAAAAhObLPanC/AGhT9I8KZD8AHF0fL1SPPwDacLW0+mE/AGD3VZPnL78AtrmnK8l2vwCl9Ak2/IY/gIFyjnZ9gb+A0yJPbRF+v8AAjj5nl4a/ABb51GuEbD8A0IcV4b9VvwCwbVzYi30/QFIVeidag78As/RpvBB3PwCsANEehHc/gK8IuxdygT8AVIXP+kJSPwBwym02pVu/QORvqAh4kT8AyFB89nSIvwBo4VFqSmg/wD/FBvKtiL8A55nZpWKMP8COxUbx3o2/AHhpXhf8bL+AMyV7fbx0v4A0O3FbI4C/AGA7jFDXMz+AwKpPUEiIPwBKegdc0Yc/AOV8ktBfZL8AmTeIBP9hvwDhPoKlw3i/AN93OmFRgT8AEJvT9P1lPwDDKYvStqE/gN43P9lrj78AGLxCUNdKPwB5HsJPwHq/oDc4UWCAmL+Qx6brU/ynv4BSTZv0Gpc/YIhjJxP0oz+AIhHJ2qJyv8AXlWUsvZK/AOCswXhMID8AmBLpfylYvwAilzH4iY4/AH3k0IVhiD8A3J4on4x5PwAl/9EedIS/ACzjx/DsS78A2PGYf7yLPwD4atpCGG+/AOCRYrY7d78A+GoqvWdMvwD0vRUd+HS/AE+qZvslab8ADaIdw6aiP8DXDLmnsJO/AHp5oDwlgD8AfnJNtI9rPwCVavK/kWO/AKDdmBfpUj8AWDoLeK5XPwDPU4TUU3A/AHQ7MhFiUb+A3pgDeM6CvwC/528o24A/QExlPL9Qgb8ABGfWfXhdPwDla/T0loq/AORrFVgWXD8AMqCOfwh5P4CGFrgYvIk/ABIe51cwbj8ANNN9QZ5IvwCA/tky9fG+AF5cRC4uaj8AUJiwAFU2P4BSz21RVYq/AOSAHt1cYz/A9xAfLR6gPwCaFQQ3f4E/ADQaVr0Jf79AHZGDux+NvwD66WNB3ng/AJQtNLeJjb8Agd8wg0J0P4BXGJkuVnC/gBZKML32ib8AO75PbjJ2P4D8/9nXB3C/QBBjFpU0kT8A+HXG6URZP0A1Nocic5E/AH4cUGYOmz8A/C89bMlzPwDYhWYZbWM/ALxHdhOJcb8AOCNqAh1mPwCAFqWAXRm/gATafG+2n78AOeZapvyHPwCae5sa+XA/gODiOmrjg78AkHKCYO1IPwBbxMC/L34/AIuYROjpgj+AYonxdeiBPwAxe/fL6I8/AEnuNOvGhj+AROUrvoiEvwDyTZoDr3U/ABI5Q5WbWr9A8lEoflOKvwCSuDnMSmm/AJB8VvrJbD8AtUXGsqJ/PwAYG1FKR1Q/QA3phIDtmD8AcBX0ErtgP4A7N9l/a4Y/AHRdzkukYT8AShtDkdpxP0Cfup3of5Y/ABCpctw3cz+A0gtOO4J+vwCQSLezI3u/gIoBP9I9fL8Ac72utZWHvwDoOaceBHg/ABnO+DZKcD+AWGWQ8kSCv8ClHVEbJ4K/AOqB57loUr+A+g0jFmOEPwCJZ/KTD4U/AFnHJMizdj8A5GeR7dWPv1B8prYkAaS/IPnfdr/4mL8AzfyMBlRrv4D6H0EyQYE/AFPH8+tnaL8AmDg9T0Z6vwACfC+zUn2/AHhF7V8JRT+Ay3ntttWCPwDMAERACHQ/gE/60l5xgb/g6YlSeFiVv0DoDg8thpM/wF6qt79xjL+AIAWfx1x3vwDse5LeP3i/gMxzwWhLc7+ATz4uMVyOPwBcUE5+j2i/AEAzdL7MVD+ANzUzN9iUvwDskpItcVc/wMlzuD8agb+ALMXoeauDvwACtkcrX2w/YDaaBJA+k7+AAQVuVXCav3j3JitT7LS/wGaTwzt7m78AEjr2dcxcvwAcQjsP+XQ/AEAs7h0KLT8ApAkJeRVcP4C3kOwS55a/wDjkTKWTkj+Azvvi17V0v4A7UhPj25I/ACmoYJBrdb+AQeAj7tGLvwCXUMR/9IE/AKAb7gUSLb8AwRLfnONvv4C5EXX7gHC/AHeo+BwmaL9AsyFxi8qCv8B7evpe54+/ALxYa5w1VL8ANzBp9ViIP0DFDlWzgoe/AOGdsYAGfz8AOQ/EV19iv8BUKiQGt5O/gJc/xnlXcr9gvf/Pq2aXvwCOtN+O+nC/AAyLoAudVr8ANPSfl0BhP0BzjKpAXoO/AFRg/VBLcD8AIBG8uWJ+PwAFsa+Hs2i/ACmv85vqhD8AkEsPmyaRPwBSgLRxhWm/IN83Ttsonr+APHLydv2GPwDvISfapZI/AGBoyLbPez+A30LQzamJvwCmU/NaDJ6/gCVlspcXd78Ac5PEQb5yvwCHNE7U5nm/wLdp8Jj7lD8A2JbcVLWBP0AFvuLlI4K/AABPwhRfST8A0pJTac15P4C9izkMGnm/AFGI/uW7c78AoQ5FZ6VxvwD96B63CYG/gOpxwrmYiD9AQxJ7fTCXP4BdGg2saJY/AOFCSRinmb9A7aVxz72bPxBvSwd3NqG/gMlvtEs+db8ASL6cxYFrPwD4Ju7dhzi/wMAL3MFuir8AmWHKBgh3vwAU/XVy9m0/AHC6a06uYr8A7QJFrPGBPwAfGNShHHi/APAiD433RT8AAFiJiTNyPwDoAhqgJG8/AGvCPfSudL/AngX3qo6DvwDsV9iwb3S/wEEUEvxcj7+AftS8GBZ5v0DKEXJwNpC/AFp2ax/Jjj/A4rQmh3+oPwA0RW8xnlA/AOYSIkEJbz8AyInR86JvP8Bjp48pKZC/gN5UEaQxgr+AHoVXyZF1vwAAAAAAAAAAAN6opjY2nD8A1AMb+lhnPwDarv58o3c/gIujnOasgz8AWuHyfxltPwDxdyuDtmq/AB+VMQFcej8A6KU72d1RP8BAUOJkkYW/gD2xQ0yJcL+An+0hb/qSPwCuSMMkMGc/ACtSU1yOeb/AxifPNh2XPwC5hiV0/3w/gDC5ly/Qfb+AoPlOueiCPwC9oUdwvJI/ADabDjGkaj+A742T5QCDvwACFF06x3W/AMKiRbDEgT8AZF1oG95yP4DmfzXxQYu/AEoBT5dZgT8AaPyXLWU9vwAY1coSOYW/gDSwG7qCer8AGE8yAdyGPwCBNCFtxH+/kLCxwvPDob/A7wJhiaOLvwBsvdfNWFW/wEAJz+pKmT9AWih3S6OLvwD0G1QnopK/QFT4OU9blT8A4UIWIdWEP0A0JudGUYO/wFIqUbtyj78Ax0M7w/l9PwApxBOnYXe/AHOdZNwJfT8A61UGWLJ0PwCgvthmiSY/QB0cvhJ4hb8Alc6bwqdvv4ATAg7Qa4+/AEA/LPKOaz8A2iRYl+BzvwC5/+v/VGi/AFW4laMIZL8AgGD469NIPwB8v1Xhs1M/ADrgMwQUb78A32Qr2KRyvwC0gSEIqHM/ACEErocxY7+A8cQroE2MP4BHXBgiP4I/AIcA3IkFfj8AMUtr2w54vwAWKQNP938/QBbg4YRag78AMOPADEN0PwBu1nezj2A/AI1hbUvJcT/ANs1o5M+ePwD9YUAikH6/AJqDPCTYiD8A/MOcjpCVPwBdUG8jeHM/AGGQmBaUZr8AszTvYW1/P8CqlGivhZE/AEnWpfKSdz8AnxSB54uTvwAliEVeDXS/gIjrgs+Rj78AgizuQaFrvwBCs3iVF30/AFe7WBW2c7+AMQcTRCx8vwCGKXbhEWi/gM35CZSWcb8ARfPl/qlxP8CmJtehFoS/AOTJ9Fmwe7+AFozfcIOEPwB5utjxLpI/AP18XeJjeD9At/yqX7OAv4Auoqpo1I0/AJR+sh+tfz+A5WOnU7x1v8BGFLUv3JY/AM6fdPkneT9AHmraXz+JvwD1+nceVnY/AGkAkbTFcb8ArbfU9BiCPwA9eLtnWIc/gJ948kbFlz8Azzn1MlRpvwDG8e8ZiW2/AMZiXN1PVr8gccaOssaYvwD6wgmx+HK/APGF+S/lcr8AAAAAAAAAAAD4PIQ2F2k/gDslRgZbiD9A9O3BrfqUP4DMAp5nEIi/AKQe3Dpqdj8AxsH2lJN3PwDYEELnBHI/4HyEDQt9k78A1rGVPAplPwDOGIAsX2M/AGaTq8lKdD8AwXLF0MRuv2CFlorzkpG/gN389CHCgb8AmXjQ2/d0P4BNdDedeXi/ALSPfGrUUz8AoG9ZX2g6P0DzZHIhiI2/AC/Btec9cT/g30zYlSuWv6DFsEmLEZq/",
                    "dtype": "f8"
                  },
                  "xaxis": "x",
                  "yaxis": "y"
                }
              ],
              "layout": {
                "barmode": "relative",
                "height": 600,
                "legend": {
                  "tracegroupgap": 0
                },
                "template": {
                  "data": {
                    "bar": [
                      {
                        "error_x": {
                          "color": "#2a3f5f"
                        },
                        "error_y": {
                          "color": "#2a3f5f"
                        },
                        "marker": {
                          "line": {
                            "color": "#E5ECF6",
                            "width": 0.5
                          },
                          "pattern": {
                            "fillmode": "overlay",
                            "size": 10,
                            "solidity": 0.2
                          }
                        },
                        "type": "bar"
                      }
                    ],
                    "barpolar": [
                      {
                        "marker": {
                          "line": {
                            "color": "#E5ECF6",
                            "width": 0.5
                          },
                          "pattern": {
                            "fillmode": "overlay",
                            "size": 10,
                            "solidity": 0.2
                          }
                        },
                        "type": "barpolar"
                      }
                    ],
                    "carpet": [
                      {
                        "aaxis": {
                          "endlinecolor": "#2a3f5f",
                          "gridcolor": "white",
                          "linecolor": "white",
                          "minorgridcolor": "white",
                          "startlinecolor": "#2a3f5f"
                        },
                        "baxis": {
                          "endlinecolor": "#2a3f5f",
                          "gridcolor": "white",
                          "linecolor": "white",
                          "minorgridcolor": "white",
                          "startlinecolor": "#2a3f5f"
                        },
                        "type": "carpet"
                      }
                    ],
                    "choropleth": [
                      {
                        "colorbar": {
                          "outlinewidth": 0,
                          "ticks": ""
                        },
                        "type": "choropleth"
                      }
                    ],
                    "contour": [
                      {
                        "colorbar": {
                          "outlinewidth": 0,
                          "ticks": ""
                        },
                        "colorscale": [
                          [
                            0,
                            "#0d0887"
                          ],
                          [
                            0.1111111111111111,
                            "#46039f"
                          ],
                          [
                            0.2222222222222222,
                            "#7201a8"
                          ],
                          [
                            0.3333333333333333,
                            "#9c179e"
                          ],
                          [
                            0.4444444444444444,
                            "#bd3786"
                          ],
                          [
                            0.5555555555555556,
                            "#d8576b"
                          ],
                          [
                            0.6666666666666666,
                            "#ed7953"
                          ],
                          [
                            0.7777777777777778,
                            "#fb9f3a"
                          ],
                          [
                            0.8888888888888888,
                            "#fdca26"
                          ],
                          [
                            1,
                            "#f0f921"
                          ]
                        ],
                        "type": "contour"
                      }
                    ],
                    "contourcarpet": [
                      {
                        "colorbar": {
                          "outlinewidth": 0,
                          "ticks": ""
                        },
                        "type": "contourcarpet"
                      }
                    ],
                    "heatmap": [
                      {
                        "colorbar": {
                          "outlinewidth": 0,
                          "ticks": ""
                        },
                        "colorscale": [
                          [
                            0,
                            "#0d0887"
                          ],
                          [
                            0.1111111111111111,
                            "#46039f"
                          ],
                          [
                            0.2222222222222222,
                            "#7201a8"
                          ],
                          [
                            0.3333333333333333,
                            "#9c179e"
                          ],
                          [
                            0.4444444444444444,
                            "#bd3786"
                          ],
                          [
                            0.5555555555555556,
                            "#d8576b"
                          ],
                          [
                            0.6666666666666666,
                            "#ed7953"
                          ],
                          [
                            0.7777777777777778,
                            "#fb9f3a"
                          ],
                          [
                            0.8888888888888888,
                            "#fdca26"
                          ],
                          [
                            1,
                            "#f0f921"
                          ]
                        ],
                        "type": "heatmap"
                      }
                    ],
                    "histogram": [
                      {
                        "marker": {
                          "pattern": {
                            "fillmode": "overlay",
                            "size": 10,
                            "solidity": 0.2
                          }
                        },
                        "type": "histogram"
                      }
                    ],
                    "histogram2d": [
                      {
                        "colorbar": {
                          "outlinewidth": 0,
                          "ticks": ""
                        },
                        "colorscale": [
                          [
                            0,
                            "#0d0887"
                          ],
                          [
                            0.1111111111111111,
                            "#46039f"
                          ],
                          [
                            0.2222222222222222,
                            "#7201a8"
                          ],
                          [
                            0.3333333333333333,
                            "#9c179e"
                          ],
                          [
                            0.4444444444444444,
                            "#bd3786"
                          ],
                          [
                            0.5555555555555556,
                            "#d8576b"
                          ],
                          [
                            0.6666666666666666,
                            "#ed7953"
                          ],
                          [
                            0.7777777777777778,
                            "#fb9f3a"
                          ],
                          [
                            0.8888888888888888,
                            "#fdca26"
                          ],
                          [
                            1,
                            "#f0f921"
                          ]
                        ],
                        "type": "histogram2d"
                      }
                    ],
                    "histogram2dcontour": [
                      {
                        "colorbar": {
                          "outlinewidth": 0,
                          "ticks": ""
                        },
                        "colorscale": [
                          [
                            0,
                            "#0d0887"
                          ],
                          [
                            0.1111111111111111,
                            "#46039f"
                          ],
                          [
                            0.2222222222222222,
                            "#7201a8"
                          ],
                          [
                            0.3333333333333333,
                            "#9c179e"
                          ],
                          [
                            0.4444444444444444,
                            "#bd3786"
                          ],
                          [
                            0.5555555555555556,
                            "#d8576b"
                          ],
                          [
                            0.6666666666666666,
                            "#ed7953"
                          ],
                          [
                            0.7777777777777778,
                            "#fb9f3a"
                          ],
                          [
                            0.8888888888888888,
                            "#fdca26"
                          ],
                          [
                            1,
                            "#f0f921"
                          ]
                        ],
                        "type": "histogram2dcontour"
                      }
                    ],
                    "mesh3d": [
                      {
                        "colorbar": {
                          "outlinewidth": 0,
                          "ticks": ""
                        },
                        "type": "mesh3d"
                      }
                    ],
                    "parcoords": [
                      {
                        "line": {
                          "colorbar": {
                            "outlinewidth": 0,
                            "ticks": ""
                          }
                        },
                        "type": "parcoords"
                      }
                    ],
                    "pie": [
                      {
                        "automargin": true,
                        "type": "pie"
                      }
                    ],
                    "scatter": [
                      {
                        "fillpattern": {
                          "fillmode": "overlay",
                          "size": 10,
                          "solidity": 0.2
                        },
                        "type": "scatter"
                      }
                    ],
                    "scatter3d": [
                      {
                        "line": {
                          "colorbar": {
                            "outlinewidth": 0,
                            "ticks": ""
                          }
                        },
                        "marker": {
                          "colorbar": {
                            "outlinewidth": 0,
                            "ticks": ""
                          }
                        },
                        "type": "scatter3d"
                      }
                    ],
                    "scattercarpet": [
                      {
                        "marker": {
                          "colorbar": {
                            "outlinewidth": 0,
                            "ticks": ""
                          }
                        },
                        "type": "scattercarpet"
                      }
                    ],
                    "scattergeo": [
                      {
                        "marker": {
                          "colorbar": {
                            "outlinewidth": 0,
                            "ticks": ""
                          }
                        },
                        "type": "scattergeo"
                      }
                    ],
                    "scattergl": [
                      {
                        "marker": {
                          "colorbar": {
                            "outlinewidth": 0,
                            "ticks": ""
                          }
                        },
                        "type": "scattergl"
                      }
                    ],
                    "scattermap": [
                      {
                        "marker": {
                          "colorbar": {
                            "outlinewidth": 0,
                            "ticks": ""
                          }
                        },
                        "type": "scattermap"
                      }
                    ],
                    "scattermapbox": [
                      {
                        "marker": {
                          "colorbar": {
                            "outlinewidth": 0,
                            "ticks": ""
                          }
                        },
                        "type": "scattermapbox"
                      }
                    ],
                    "scatterpolar": [
                      {
                        "marker": {
                          "colorbar": {
                            "outlinewidth": 0,
                            "ticks": ""
                          }
                        },
                        "type": "scatterpolar"
                      }
                    ],
                    "scatterpolargl": [
                      {
                        "marker": {
                          "colorbar": {
                            "outlinewidth": 0,
                            "ticks": ""
                          }
                        },
                        "type": "scatterpolargl"
                      }
                    ],
                    "scatterternary": [
                      {
                        "marker": {
                          "colorbar": {
                            "outlinewidth": 0,
                            "ticks": ""
                          }
                        },
                        "type": "scatterternary"
                      }
                    ],
                    "surface": [
                      {
                        "colorbar": {
                          "outlinewidth": 0,
                          "ticks": ""
                        },
                        "colorscale": [
                          [
                            0,
                            "#0d0887"
                          ],
                          [
                            0.1111111111111111,
                            "#46039f"
                          ],
                          [
                            0.2222222222222222,
                            "#7201a8"
                          ],
                          [
                            0.3333333333333333,
                            "#9c179e"
                          ],
                          [
                            0.4444444444444444,
                            "#bd3786"
                          ],
                          [
                            0.5555555555555556,
                            "#d8576b"
                          ],
                          [
                            0.6666666666666666,
                            "#ed7953"
                          ],
                          [
                            0.7777777777777778,
                            "#fb9f3a"
                          ],
                          [
                            0.8888888888888888,
                            "#fdca26"
                          ],
                          [
                            1,
                            "#f0f921"
                          ]
                        ],
                        "type": "surface"
                      }
                    ],
                    "table": [
                      {
                        "cells": {
                          "fill": {
                            "color": "#EBF0F8"
                          },
                          "line": {
                            "color": "white"
                          }
                        },
                        "header": {
                          "fill": {
                            "color": "#C8D4E3"
                          },
                          "line": {
                            "color": "white"
                          }
                        },
                        "type": "table"
                      }
                    ]
                  },
                  "layout": {
                    "annotationdefaults": {
                      "arrowcolor": "#2a3f5f",
                      "arrowhead": 0,
                      "arrowwidth": 1
                    },
                    "autotypenumbers": "strict",
                    "coloraxis": {
                      "colorbar": {
                        "outlinewidth": 0,
                        "ticks": ""
                      }
                    },
                    "colorscale": {
                      "diverging": [
                        [
                          0,
                          "#8e0152"
                        ],
                        [
                          0.1,
                          "#c51b7d"
                        ],
                        [
                          0.2,
                          "#de77ae"
                        ],
                        [
                          0.3,
                          "#f1b6da"
                        ],
                        [
                          0.4,
                          "#fde0ef"
                        ],
                        [
                          0.5,
                          "#f7f7f7"
                        ],
                        [
                          0.6,
                          "#e6f5d0"
                        ],
                        [
                          0.7,
                          "#b8e186"
                        ],
                        [
                          0.8,
                          "#7fbc41"
                        ],
                        [
                          0.9,
                          "#4d9221"
                        ],
                        [
                          1,
                          "#276419"
                        ]
                      ],
                      "sequential": [
                        [
                          0,
                          "#0d0887"
                        ],
                        [
                          0.1111111111111111,
                          "#46039f"
                        ],
                        [
                          0.2222222222222222,
                          "#7201a8"
                        ],
                        [
                          0.3333333333333333,
                          "#9c179e"
                        ],
                        [
                          0.4444444444444444,
                          "#bd3786"
                        ],
                        [
                          0.5555555555555556,
                          "#d8576b"
                        ],
                        [
                          0.6666666666666666,
                          "#ed7953"
                        ],
                        [
                          0.7777777777777778,
                          "#fb9f3a"
                        ],
                        [
                          0.8888888888888888,
                          "#fdca26"
                        ],
                        [
                          1,
                          "#f0f921"
                        ]
                      ],
                      "sequentialminus": [
                        [
                          0,
                          "#0d0887"
                        ],
                        [
                          0.1111111111111111,
                          "#46039f"
                        ],
                        [
                          0.2222222222222222,
                          "#7201a8"
                        ],
                        [
                          0.3333333333333333,
                          "#9c179e"
                        ],
                        [
                          0.4444444444444444,
                          "#bd3786"
                        ],
                        [
                          0.5555555555555556,
                          "#d8576b"
                        ],
                        [
                          0.6666666666666666,
                          "#ed7953"
                        ],
                        [
                          0.7777777777777778,
                          "#fb9f3a"
                        ],
                        [
                          0.8888888888888888,
                          "#fdca26"
                        ],
                        [
                          1,
                          "#f0f921"
                        ]
                      ]
                    },
                    "colorway": [
                      "#636efa",
                      "#EF553B",
                      "#00cc96",
                      "#ab63fa",
                      "#FFA15A",
                      "#19d3f3",
                      "#FF6692",
                      "#B6E880",
                      "#FF97FF",
                      "#FECB52"
                    ],
                    "font": {
                      "color": "#2a3f5f"
                    },
                    "geo": {
                      "bgcolor": "white",
                      "lakecolor": "white",
                      "landcolor": "#E5ECF6",
                      "showlakes": true,
                      "showland": true,
                      "subunitcolor": "white"
                    },
                    "hoverlabel": {
                      "align": "left"
                    },
                    "hovermode": "closest",
                    "mapbox": {
                      "style": "light"
                    },
                    "paper_bgcolor": "white",
                    "plot_bgcolor": "#E5ECF6",
                    "polar": {
                      "angularaxis": {
                        "gridcolor": "white",
                        "linecolor": "white",
                        "ticks": ""
                      },
                      "bgcolor": "#E5ECF6",
                      "radialaxis": {
                        "gridcolor": "white",
                        "linecolor": "white",
                        "ticks": ""
                      }
                    },
                    "scene": {
                      "xaxis": {
                        "backgroundcolor": "#E5ECF6",
                        "gridcolor": "white",
                        "gridwidth": 2,
                        "linecolor": "white",
                        "showbackground": true,
                        "ticks": "",
                        "zerolinecolor": "white"
                      },
                      "yaxis": {
                        "backgroundcolor": "#E5ECF6",
                        "gridcolor": "white",
                        "gridwidth": 2,
                        "linecolor": "white",
                        "showbackground": true,
                        "ticks": "",
                        "zerolinecolor": "white"
                      },
                      "zaxis": {
                        "backgroundcolor": "#E5ECF6",
                        "gridcolor": "white",
                        "gridwidth": 2,
                        "linecolor": "white",
                        "showbackground": true,
                        "ticks": "",
                        "zerolinecolor": "white"
                      }
                    },
                    "shapedefaults": {
                      "line": {
                        "color": "#2a3f5f"
                      }
                    },
                    "ternary": {
                      "aaxis": {
                        "gridcolor": "white",
                        "linecolor": "white",
                        "ticks": ""
                      },
                      "baxis": {
                        "gridcolor": "white",
                        "linecolor": "white",
                        "ticks": ""
                      },
                      "bgcolor": "#E5ECF6",
                      "caxis": {
                        "gridcolor": "white",
                        "linecolor": "white",
                        "ticks": ""
                      }
                    },
                    "title": {
                      "x": 0.05
                    },
                    "xaxis": {
                      "automargin": true,
                      "gridcolor": "white",
                      "linecolor": "white",
                      "ticks": "",
                      "title": {
                        "standoff": 15
                      },
                      "zerolinecolor": "white",
                      "zerolinewidth": 2
                    },
                    "yaxis": {
                      "automargin": true,
                      "gridcolor": "white",
                      "linecolor": "white",
                      "ticks": "",
                      "title": {
                        "standoff": 15
                      },
                      "zerolinecolor": "white",
                      "zerolinewidth": 2
                    }
                  }
                },
                "title": {
                  "text": "Histogram of ICICIBANK Returns"
                },
                "width": 1000,
                "xaxis": {
                  "anchor": "y",
                  "domain": [
                    0,
                    1
                  ],
                  "title": {
                    "text": "Daily Returns"
                  }
                },
                "yaxis": {
                  "anchor": "x",
                  "domain": [
                    0,
                    1
                  ],
                  "title": {
                    "text": "probability density"
                  }
                }
              }
            }
          },
          "metadata": {},
          "output_type": "display_data"
        }
      ],
      "source": [
        "# Plot histogram\n",
        "fig = px.histogram(returns, x='ICICIBANK', nbins=50,\n",
        "                   histnorm='probability density',\n",
        "                   title='Histogram of ICICIBANK Returns',\n",
        "                   labels={'ICICIBANK': 'Daily Returns', 'count': 'Density'})\n",
        "fig.show()"
      ]
    },
    {
      "cell_type": "markdown",
      "metadata": {},
      "source": [
        "## Modified VaR\n",
        "\n",
        "Standard normal distribution have a zero mean, unit variance, zero skewness, and its kurtosis of 3. However, we now know the distribution is not normal and in such scenario, the skewness and excess kurtosis of many stock returns are not zero. As a consequence, the modified VaR was developed to utilize those four moments instead of the first two moments.\n",
        "\n",
        "$\\mu$ is the return, $\\sigma$ is the volatility, $s$ is the skewness, $k$ is the kurtosis and $z$ is the absolute number of standard deviation from the mean."
      ]
    },
    {
      "cell_type": "code",
      "execution_count": 15,
      "metadata": {},
      "outputs": [
        {
          "name": "stdout",
          "output_type": "stream",
          "text": [
            "OrderedDict([('Mean', np.float64(-0.0005636351315100572)),\n",
            "             ('Std Dev', np.float64(0.012515747169460049)),\n",
            "             ('Skew', np.float64(-0.6389758118432279)),\n",
            "             ('Kurtosis', np.float64(4.494764018598468))])\n"
          ]
        }
      ],
      "source": [
        "# First four moments\n",
        "dist = OrderedDict({\n",
        "    'Mean': np.mean(returns['ICICIBANK']),\n",
        "    'Std Dev': np.std(returns['ICICIBANK']),\n",
        "    'Skew': stats.skew(returns['ICICIBANK']),\n",
        "    'Kurtosis': stats.kurtosis(returns['ICICIBANK'])\n",
        "})\n",
        "pprint(dist)"
      ]
    },
    {
      "cell_type": "code",
      "execution_count": 16,
      "metadata": {},
      "outputs": [
        {
          "name": "stdout",
          "output_type": "stream",
          "text": [
            "Modified VaR (99%): -0.035028\n"
          ]
        }
      ],
      "source": [
        "# Specify params for modified VaR\n",
        "z = abs(stats.norm.ppf(0.01))\n",
        "s = stats.skew(stockreturn)\n",
        "k = stats.kurtosis(stockreturn)\n",
        "t = z + 1/6*(z**2-1)*s + 1/24*(z**3-3*z)*k - 1/36*(2*z**3-5*z)*s**2\n",
        "\n",
        "# Calculate VaR at difference confidence level\n",
        "mVaR_99 = (mean - t*stdev)\n",
        "print(f\"Modified VaR (99%): {mVaR_99:.6f}\")"
      ]
    },
    {
      "cell_type": "markdown",
      "metadata": {},
      "source": [
        "## VaR Scaling\n",
        "\n",
        "Now, let's calculate VaR over a 5-day period. To scale it, multiply by square root of time.\n",
        "\n",
        "$$ VaR = position * (\\mu - z * \\sigma) * \\sqrt{T}$$\n",
        "\n",
        "where, $T$ is the horizon or forecast period."
      ]
    },
    {
      "cell_type": "code",
      "execution_count": 17,
      "metadata": {},
      "outputs": [],
      "source": [
        "# VaR Scaling\n",
        "forecast_days = 5\n",
        "f_VaR_90 = VaR_90 * np.sqrt(forecast_days)\n",
        "f_VaR_95 = VaR_95 * np.sqrt(forecast_days)\n",
        "f_VaR_99 = VaR_99 * np.sqrt(forecast_days)"
      ]
    },
    {
      "cell_type": "code",
      "execution_count": 18,
      "metadata": {},
      "outputs": [
        {
          "name": "stdout",
          "output_type": "stream",
          "text": [
            "Confidence Level      5-Day Forecast Value At Risk\n",
            "------------------  ------------------------------\n",
            "90%                                      -0.037126\n",
            "95%                                      -0.047293\n",
            "99%                                      -0.066366\n"
          ]
        }
      ],
      "source": [
        "# Output results in tabular format\n",
        "ftable = [['90%', f_VaR_90], ['95%', f_VaR_95], ['99%', f_VaR_99]]\n",
        "fheader = ['Confidence Level', '5-Day Forecast Value At Risk']\n",
        "print(tabulate(ftable, headers=fheader, floatfmt='.6f'))"
      ]
    },
    {
      "cell_type": "code",
      "execution_count": 19,
      "metadata": {},
      "outputs": [
        {
          "data": {
            "application/vnd.plotly.v1+json": {
              "config": {
                "plotlyServerURL": "https://plot.ly"
              },
              "data": [
                {
                  "hovertemplate": "Horizon=%{x}<br>Scaled VaR (%)=%{y}<extra></extra>",
                  "legendgroup": "",
                  "line": {
                    "color": "#636efa",
                    "dash": "solid"
                  },
                  "marker": {
                    "symbol": "circle"
                  },
                  "mode": "lines",
                  "name": "",
                  "orientation": "v",
                  "showlegend": false,
                  "type": "scatter",
                  "x": {
                    "bdata": "AQIDBAUGBwgJCgsMDQ4PEBESExQVFhcYGRobHB0eHyAhIiMkJSYnKCkqKywtLi8wMTIzNDU2Nzg5Ojs8PT4/QEFCQ0RFRkdISUpLTE1OT1BRUlNUVVZXWFlaW1xdXl9gYWJjZA==",
                    "dtype": "i1"
                  },
                  "xaxis": "x",
                  "y": {
                    "bdata": "1Z+Cs2K+B0Dq8/9QEcoQQDJKEUsJkBRA1Z+Cs2K+F0ApivF114saQJf3O7Z4FB1AQiDmwfJoH0Dq8/9QEcogQOD3oQbKziFAaujivWLFIkCuTWNZ7q8jQDJKEUsJkCRAX2zfkftmJUAuu+EdzzUmQD4m1xpf/SZA1Z+Cs2K+J0AZlKfXdHkoQN3tf/kZLylAK9z/X8TfKUApivF114sqQCYHdlyqMytADzzW8YnXK0BeMzxvuncsQJf3O7Z4FC1AykdjYPutLUDp5FSec0QuQEzvmfAN2C5AQiDmwfJoL0BmTcPoRvcvQD26ogqWQTBAdco0l2CGMEDq8/9QEcowQCG2tlS1DDFAtNiOwlhOMUDh+RHYBo8xQOD3oQbKzjFAvF4xB6wNMkAIo5nrtUsyQKn05i3wiDJAaujivWLFMkAkYRsNFQEzQH1ymRkOPDNA3gB0d1R2M0CuTWNZ7q8zQJ4ndZjh6DNALej8ujMhNECUldb66Vg0QDJKEUsJkDRA2ksSXZbGNEDk8D+llfw0QP57QV8LMjVAX2zfkftmNUDWUY4Saps1QLL5rIhazzVAnrp9cNACNkAuu+EdzzU2QAhE3L5ZaDZAIn7jXXOaNkDwYwPkHsw2QD4m1xpf/TZAv89crjYuN0CZi6YuqF43QDGYbBG2jjdA1Z+Cs2K+N0Aj6jJasO03QKyagTShHDhA3vlZXDdLOEAZlKfXdHk4QO3OXJlbpzhAkW1ogu3UOECZWptiLAI5QN3tf/kZLzlAeskj97dbOUCqT9X8B4g5QMCc1Z0LtDlAK9z/X8TfOUAUvWa8Mws6QJ266B9bNjpA3ty76zthOkApivF114s6QNDz8gkvtjpAnp726EPgOkDqfG9KFwo7QCYHdlyqMztAMrcrRP5cO0BJQxkeFIY7QDDuh/7srjtADzzW8YnXO0ByVcj86/87QJ9c1BwUKDxAZvRqSANQPEBeMzxvunc8QOo5eXo6nzxA950STYTGPEDB2/PDmO08QJf3O7Z4FD1Av3lz9SQ7PUDY6r9NnmE9QIT0FIblhz1AykdjYPutPUA=",
                    "dtype": "f8"
                  },
                  "yaxis": "y"
                }
              ],
              "layout": {
                "height": 600,
                "legend": {
                  "tracegroupgap": 0
                },
                "template": {
                  "data": {
                    "bar": [
                      {
                        "error_x": {
                          "color": "#2a3f5f"
                        },
                        "error_y": {
                          "color": "#2a3f5f"
                        },
                        "marker": {
                          "line": {
                            "color": "#E5ECF6",
                            "width": 0.5
                          },
                          "pattern": {
                            "fillmode": "overlay",
                            "size": 10,
                            "solidity": 0.2
                          }
                        },
                        "type": "bar"
                      }
                    ],
                    "barpolar": [
                      {
                        "marker": {
                          "line": {
                            "color": "#E5ECF6",
                            "width": 0.5
                          },
                          "pattern": {
                            "fillmode": "overlay",
                            "size": 10,
                            "solidity": 0.2
                          }
                        },
                        "type": "barpolar"
                      }
                    ],
                    "carpet": [
                      {
                        "aaxis": {
                          "endlinecolor": "#2a3f5f",
                          "gridcolor": "white",
                          "linecolor": "white",
                          "minorgridcolor": "white",
                          "startlinecolor": "#2a3f5f"
                        },
                        "baxis": {
                          "endlinecolor": "#2a3f5f",
                          "gridcolor": "white",
                          "linecolor": "white",
                          "minorgridcolor": "white",
                          "startlinecolor": "#2a3f5f"
                        },
                        "type": "carpet"
                      }
                    ],
                    "choropleth": [
                      {
                        "colorbar": {
                          "outlinewidth": 0,
                          "ticks": ""
                        },
                        "type": "choropleth"
                      }
                    ],
                    "contour": [
                      {
                        "colorbar": {
                          "outlinewidth": 0,
                          "ticks": ""
                        },
                        "colorscale": [
                          [
                            0,
                            "#0d0887"
                          ],
                          [
                            0.1111111111111111,
                            "#46039f"
                          ],
                          [
                            0.2222222222222222,
                            "#7201a8"
                          ],
                          [
                            0.3333333333333333,
                            "#9c179e"
                          ],
                          [
                            0.4444444444444444,
                            "#bd3786"
                          ],
                          [
                            0.5555555555555556,
                            "#d8576b"
                          ],
                          [
                            0.6666666666666666,
                            "#ed7953"
                          ],
                          [
                            0.7777777777777778,
                            "#fb9f3a"
                          ],
                          [
                            0.8888888888888888,
                            "#fdca26"
                          ],
                          [
                            1,
                            "#f0f921"
                          ]
                        ],
                        "type": "contour"
                      }
                    ],
                    "contourcarpet": [
                      {
                        "colorbar": {
                          "outlinewidth": 0,
                          "ticks": ""
                        },
                        "type": "contourcarpet"
                      }
                    ],
                    "heatmap": [
                      {
                        "colorbar": {
                          "outlinewidth": 0,
                          "ticks": ""
                        },
                        "colorscale": [
                          [
                            0,
                            "#0d0887"
                          ],
                          [
                            0.1111111111111111,
                            "#46039f"
                          ],
                          [
                            0.2222222222222222,
                            "#7201a8"
                          ],
                          [
                            0.3333333333333333,
                            "#9c179e"
                          ],
                          [
                            0.4444444444444444,
                            "#bd3786"
                          ],
                          [
                            0.5555555555555556,
                            "#d8576b"
                          ],
                          [
                            0.6666666666666666,
                            "#ed7953"
                          ],
                          [
                            0.7777777777777778,
                            "#fb9f3a"
                          ],
                          [
                            0.8888888888888888,
                            "#fdca26"
                          ],
                          [
                            1,
                            "#f0f921"
                          ]
                        ],
                        "type": "heatmap"
                      }
                    ],
                    "histogram": [
                      {
                        "marker": {
                          "pattern": {
                            "fillmode": "overlay",
                            "size": 10,
                            "solidity": 0.2
                          }
                        },
                        "type": "histogram"
                      }
                    ],
                    "histogram2d": [
                      {
                        "colorbar": {
                          "outlinewidth": 0,
                          "ticks": ""
                        },
                        "colorscale": [
                          [
                            0,
                            "#0d0887"
                          ],
                          [
                            0.1111111111111111,
                            "#46039f"
                          ],
                          [
                            0.2222222222222222,
                            "#7201a8"
                          ],
                          [
                            0.3333333333333333,
                            "#9c179e"
                          ],
                          [
                            0.4444444444444444,
                            "#bd3786"
                          ],
                          [
                            0.5555555555555556,
                            "#d8576b"
                          ],
                          [
                            0.6666666666666666,
                            "#ed7953"
                          ],
                          [
                            0.7777777777777778,
                            "#fb9f3a"
                          ],
                          [
                            0.8888888888888888,
                            "#fdca26"
                          ],
                          [
                            1,
                            "#f0f921"
                          ]
                        ],
                        "type": "histogram2d"
                      }
                    ],
                    "histogram2dcontour": [
                      {
                        "colorbar": {
                          "outlinewidth": 0,
                          "ticks": ""
                        },
                        "colorscale": [
                          [
                            0,
                            "#0d0887"
                          ],
                          [
                            0.1111111111111111,
                            "#46039f"
                          ],
                          [
                            0.2222222222222222,
                            "#7201a8"
                          ],
                          [
                            0.3333333333333333,
                            "#9c179e"
                          ],
                          [
                            0.4444444444444444,
                            "#bd3786"
                          ],
                          [
                            0.5555555555555556,
                            "#d8576b"
                          ],
                          [
                            0.6666666666666666,
                            "#ed7953"
                          ],
                          [
                            0.7777777777777778,
                            "#fb9f3a"
                          ],
                          [
                            0.8888888888888888,
                            "#fdca26"
                          ],
                          [
                            1,
                            "#f0f921"
                          ]
                        ],
                        "type": "histogram2dcontour"
                      }
                    ],
                    "mesh3d": [
                      {
                        "colorbar": {
                          "outlinewidth": 0,
                          "ticks": ""
                        },
                        "type": "mesh3d"
                      }
                    ],
                    "parcoords": [
                      {
                        "line": {
                          "colorbar": {
                            "outlinewidth": 0,
                            "ticks": ""
                          }
                        },
                        "type": "parcoords"
                      }
                    ],
                    "pie": [
                      {
                        "automargin": true,
                        "type": "pie"
                      }
                    ],
                    "scatter": [
                      {
                        "fillpattern": {
                          "fillmode": "overlay",
                          "size": 10,
                          "solidity": 0.2
                        },
                        "type": "scatter"
                      }
                    ],
                    "scatter3d": [
                      {
                        "line": {
                          "colorbar": {
                            "outlinewidth": 0,
                            "ticks": ""
                          }
                        },
                        "marker": {
                          "colorbar": {
                            "outlinewidth": 0,
                            "ticks": ""
                          }
                        },
                        "type": "scatter3d"
                      }
                    ],
                    "scattercarpet": [
                      {
                        "marker": {
                          "colorbar": {
                            "outlinewidth": 0,
                            "ticks": ""
                          }
                        },
                        "type": "scattercarpet"
                      }
                    ],
                    "scattergeo": [
                      {
                        "marker": {
                          "colorbar": {
                            "outlinewidth": 0,
                            "ticks": ""
                          }
                        },
                        "type": "scattergeo"
                      }
                    ],
                    "scattergl": [
                      {
                        "marker": {
                          "colorbar": {
                            "outlinewidth": 0,
                            "ticks": ""
                          }
                        },
                        "type": "scattergl"
                      }
                    ],
                    "scattermap": [
                      {
                        "marker": {
                          "colorbar": {
                            "outlinewidth": 0,
                            "ticks": ""
                          }
                        },
                        "type": "scattermap"
                      }
                    ],
                    "scattermapbox": [
                      {
                        "marker": {
                          "colorbar": {
                            "outlinewidth": 0,
                            "ticks": ""
                          }
                        },
                        "type": "scattermapbox"
                      }
                    ],
                    "scatterpolar": [
                      {
                        "marker": {
                          "colorbar": {
                            "outlinewidth": 0,
                            "ticks": ""
                          }
                        },
                        "type": "scatterpolar"
                      }
                    ],
                    "scatterpolargl": [
                      {
                        "marker": {
                          "colorbar": {
                            "outlinewidth": 0,
                            "ticks": ""
                          }
                        },
                        "type": "scatterpolargl"
                      }
                    ],
                    "scatterternary": [
                      {
                        "marker": {
                          "colorbar": {
                            "outlinewidth": 0,
                            "ticks": ""
                          }
                        },
                        "type": "scatterternary"
                      }
                    ],
                    "surface": [
                      {
                        "colorbar": {
                          "outlinewidth": 0,
                          "ticks": ""
                        },
                        "colorscale": [
                          [
                            0,
                            "#0d0887"
                          ],
                          [
                            0.1111111111111111,
                            "#46039f"
                          ],
                          [
                            0.2222222222222222,
                            "#7201a8"
                          ],
                          [
                            0.3333333333333333,
                            "#9c179e"
                          ],
                          [
                            0.4444444444444444,
                            "#bd3786"
                          ],
                          [
                            0.5555555555555556,
                            "#d8576b"
                          ],
                          [
                            0.6666666666666666,
                            "#ed7953"
                          ],
                          [
                            0.7777777777777778,
                            "#fb9f3a"
                          ],
                          [
                            0.8888888888888888,
                            "#fdca26"
                          ],
                          [
                            1,
                            "#f0f921"
                          ]
                        ],
                        "type": "surface"
                      }
                    ],
                    "table": [
                      {
                        "cells": {
                          "fill": {
                            "color": "#EBF0F8"
                          },
                          "line": {
                            "color": "white"
                          }
                        },
                        "header": {
                          "fill": {
                            "color": "#C8D4E3"
                          },
                          "line": {
                            "color": "white"
                          }
                        },
                        "type": "table"
                      }
                    ]
                  },
                  "layout": {
                    "annotationdefaults": {
                      "arrowcolor": "#2a3f5f",
                      "arrowhead": 0,
                      "arrowwidth": 1
                    },
                    "autotypenumbers": "strict",
                    "coloraxis": {
                      "colorbar": {
                        "outlinewidth": 0,
                        "ticks": ""
                      }
                    },
                    "colorscale": {
                      "diverging": [
                        [
                          0,
                          "#8e0152"
                        ],
                        [
                          0.1,
                          "#c51b7d"
                        ],
                        [
                          0.2,
                          "#de77ae"
                        ],
                        [
                          0.3,
                          "#f1b6da"
                        ],
                        [
                          0.4,
                          "#fde0ef"
                        ],
                        [
                          0.5,
                          "#f7f7f7"
                        ],
                        [
                          0.6,
                          "#e6f5d0"
                        ],
                        [
                          0.7,
                          "#b8e186"
                        ],
                        [
                          0.8,
                          "#7fbc41"
                        ],
                        [
                          0.9,
                          "#4d9221"
                        ],
                        [
                          1,
                          "#276419"
                        ]
                      ],
                      "sequential": [
                        [
                          0,
                          "#0d0887"
                        ],
                        [
                          0.1111111111111111,
                          "#46039f"
                        ],
                        [
                          0.2222222222222222,
                          "#7201a8"
                        ],
                        [
                          0.3333333333333333,
                          "#9c179e"
                        ],
                        [
                          0.4444444444444444,
                          "#bd3786"
                        ],
                        [
                          0.5555555555555556,
                          "#d8576b"
                        ],
                        [
                          0.6666666666666666,
                          "#ed7953"
                        ],
                        [
                          0.7777777777777778,
                          "#fb9f3a"
                        ],
                        [
                          0.8888888888888888,
                          "#fdca26"
                        ],
                        [
                          1,
                          "#f0f921"
                        ]
                      ],
                      "sequentialminus": [
                        [
                          0,
                          "#0d0887"
                        ],
                        [
                          0.1111111111111111,
                          "#46039f"
                        ],
                        [
                          0.2222222222222222,
                          "#7201a8"
                        ],
                        [
                          0.3333333333333333,
                          "#9c179e"
                        ],
                        [
                          0.4444444444444444,
                          "#bd3786"
                        ],
                        [
                          0.5555555555555556,
                          "#d8576b"
                        ],
                        [
                          0.6666666666666666,
                          "#ed7953"
                        ],
                        [
                          0.7777777777777778,
                          "#fb9f3a"
                        ],
                        [
                          0.8888888888888888,
                          "#fdca26"
                        ],
                        [
                          1,
                          "#f0f921"
                        ]
                      ]
                    },
                    "colorway": [
                      "#636efa",
                      "#EF553B",
                      "#00cc96",
                      "#ab63fa",
                      "#FFA15A",
                      "#19d3f3",
                      "#FF6692",
                      "#B6E880",
                      "#FF97FF",
                      "#FECB52"
                    ],
                    "font": {
                      "color": "#2a3f5f"
                    },
                    "geo": {
                      "bgcolor": "white",
                      "lakecolor": "white",
                      "landcolor": "#E5ECF6",
                      "showlakes": true,
                      "showland": true,
                      "subunitcolor": "white"
                    },
                    "hoverlabel": {
                      "align": "left"
                    },
                    "hovermode": "closest",
                    "mapbox": {
                      "style": "light"
                    },
                    "paper_bgcolor": "white",
                    "plot_bgcolor": "#E5ECF6",
                    "polar": {
                      "angularaxis": {
                        "gridcolor": "white",
                        "linecolor": "white",
                        "ticks": ""
                      },
                      "bgcolor": "#E5ECF6",
                      "radialaxis": {
                        "gridcolor": "white",
                        "linecolor": "white",
                        "ticks": ""
                      }
                    },
                    "scene": {
                      "xaxis": {
                        "backgroundcolor": "#E5ECF6",
                        "gridcolor": "white",
                        "gridwidth": 2,
                        "linecolor": "white",
                        "showbackground": true,
                        "ticks": "",
                        "zerolinecolor": "white"
                      },
                      "yaxis": {
                        "backgroundcolor": "#E5ECF6",
                        "gridcolor": "white",
                        "gridwidth": 2,
                        "linecolor": "white",
                        "showbackground": true,
                        "ticks": "",
                        "zerolinecolor": "white"
                      },
                      "zaxis": {
                        "backgroundcolor": "#E5ECF6",
                        "gridcolor": "white",
                        "gridwidth": 2,
                        "linecolor": "white",
                        "showbackground": true,
                        "ticks": "",
                        "zerolinecolor": "white"
                      }
                    },
                    "shapedefaults": {
                      "line": {
                        "color": "#2a3f5f"
                      }
                    },
                    "ternary": {
                      "aaxis": {
                        "gridcolor": "white",
                        "linecolor": "white",
                        "ticks": ""
                      },
                      "baxis": {
                        "gridcolor": "white",
                        "linecolor": "white",
                        "ticks": ""
                      },
                      "bgcolor": "#E5ECF6",
                      "caxis": {
                        "gridcolor": "white",
                        "linecolor": "white",
                        "ticks": ""
                      }
                    },
                    "title": {
                      "x": 0.05
                    },
                    "xaxis": {
                      "automargin": true,
                      "gridcolor": "white",
                      "linecolor": "white",
                      "ticks": "",
                      "title": {
                        "standoff": 15
                      },
                      "zerolinecolor": "white",
                      "zerolinewidth": 2
                    },
                    "yaxis": {
                      "automargin": true,
                      "gridcolor": "white",
                      "linecolor": "white",
                      "ticks": "",
                      "title": {
                        "standoff": 15
                      },
                      "zerolinecolor": "white",
                      "zerolinewidth": 2
                    }
                  }
                },
                "title": {
                  "text": "Scaled VaR over Different Time Horizons"
                },
                "width": 1000,
                "xaxis": {
                  "anchor": "y",
                  "domain": [
                    0,
                    1
                  ],
                  "title": {
                    "text": "Horizon"
                  }
                },
                "yaxis": {
                  "anchor": "x",
                  "domain": [
                    0,
                    1
                  ],
                  "title": {
                    "text": "Scaled VaR (%)"
                  }
                }
              }
            }
          },
          "metadata": {},
          "output_type": "display_data"
        }
      ],
      "source": [
        "# Plot Scaled VaR\n",
        "horizons = range(1, 101)\n",
        "sVaR = [-100*VaR_99*np.sqrt(x) for x in horizons]\n",
        "sVaR_df = pd.DataFrame({'Horizon': horizons, 'ScaledVaR': sVaR})\n",
        "fig = px.line(sVaR_df, x='Horizon', y='ScaledVaR', \n",
        "              title='Scaled VaR over Different Time Horizons',\n",
        "              labels={'ScaledVaR': 'Scaled VaR (%)'})\n",
        "fig.show()"
      ]
    },
    {
      "cell_type": "markdown",
      "metadata": {},
      "source": [
        "## Conditional Value at Risk (CVaR)\n",
        "\n",
        "VaR is a reasonable measure of risk if assumption of normality holds. Else, we might underestimate the risk if we observe a fat tail or overestimate the risk if tail is thinner. Expected shortfall or Conditional Value at Risk (CVaR) is an estimate of expected shortfall sustained in the worst 1-x% of scenarios. It is defined as the average loss based on the returns that are lower than the VaR threshold."
      ]
    },
    {
      "cell_type": "code",
      "execution_count": 20,
      "metadata": {},
      "outputs": [],
      "source": [
        "# Calculate CVaR\n",
        "CVaR_90 = returns['ICICIBANK'][returns['ICICIBANK'] <= hVaR_90].mean()\n",
        "CVaR_95 = returns['ICICIBANK'][returns['ICICIBANK'] <= hVaR_95].mean()\n",
        "CVaR_99 = returns['ICICIBANK'][returns['ICICIBANK'] <= hVaR_99].mean()"
      ]
    },
    {
      "cell_type": "code",
      "execution_count": 21,
      "metadata": {},
      "outputs": [
        {
          "name": "stdout",
          "output_type": "stream",
          "text": [
            "Confidence Level      Conditional Value At Risk\n",
            "------------------  ---------------------------\n",
            "90%                                   -0.024257\n",
            "95%                                   -0.031329\n",
            "99%                                   -0.049362\n"
          ]
        }
      ],
      "source": [
        "# Output results in tabular format\n",
        "ctable = [['90%', CVaR_90], ['95%', CVaR_95], ['99%', CVaR_99]]\n",
        "cheader = ['Confidence Level', 'Conditional Value At Risk']\n",
        "print(tabulate(ctable, headers=cheader, floatfmt='.6f'))"
      ]
    },
    {
      "cell_type": "markdown",
      "metadata": {},
      "source": [
        "## Portfolio VaR\n",
        "\n",
        "If we know the returns and volatilities of all the assets in the portfolio, we can derive portfolio VaR. We will now derive VaR of minimum variance portfolio consisting of Indian stocks."
      ]
    },
    {
      "cell_type": "code",
      "execution_count": 22,
      "metadata": {},
      "outputs": [
        {
          "name": "stdout",
          "output_type": "stream",
          "text": [
            "Portfolio weights: {'ICICIBANK': np.float64(0.2), 'ITC': np.float64(0.2), 'RELIANCE': np.float64(0.2), 'TCS': np.float64(0.2), 'ASIANPAINT': np.float64(0.2)}\n",
            "Portfolio Mean: 0.000088\n",
            "Portfolio Std Dev: 0.008072\n",
            "Portfolio VaR (99%): -0.018691\n"
          ]
        }
      ],
      "source": [
        "# Equal weights portfolio (you can modify these weights)\n",
        "n_assets = len(asset_names)\n",
        "wts = np.array([1/n_assets] * n_assets)  # Equal weights\n",
        "print(f\"Portfolio weights: {dict(zip(asset_names, wts))}\")\n",
        "\n",
        "# Portfolio mean returns and volatility\n",
        "port_mean = wts.T @ returns.mean()\n",
        "port_stdev = np.sqrt(multi_dot([wts.T, returns.cov(), wts]))\n",
        "pVaR = stats.norm.ppf(1-0.99, port_mean, port_stdev)\n",
        "\n",
        "print(f\"Portfolio Mean: {port_mean:.6f}\")\n",
        "print(f\"Portfolio Std Dev: {port_stdev:.6f}\")\n",
        "print(f\"Portfolio VaR (99%): {pVaR:.6f}\")"
      ]
    },
    {
      "cell_type": "markdown",
      "metadata": {},
      "source": [
        "## GARCH Model\n",
        "\n",
        "Asset price volatility is central to derivatives pricing. It is defined as measure of price variability over certain period of time. In essence, it describes standard deviation of returns. There are different types of volatility: Historical, Implied, Forward. In most cases, we assume volatility to be constant, which is clearly not true and numerous studies have been dedicated to estimate this variable, both in academia and industry.\n",
        "\n",
        "### Volatility Estimation\n",
        "\n",
        "Volatility estimation by statistical means assume equal weights to all returns measured over the period. We know that over 1-day, the mean return is small as compared to standard deviation.\n",
        "\n",
        "### ARCH Model\n",
        "\n",
        "The ARCH model was originally developed by Robert Engle in 1982 to measure the dynamics of inflation uncertainty. Conditional heteroskedasticity refers to the notion that the next period's volatility is conditional on the volatility in the current period as well as to the time varying nature of volatility.\n",
        "\n",
        "### GARCH Model\n",
        "\n",
        "To address the shortcoming, ARCH has been extended to a generalised framework where we add volatility as a forecasting feature by adding previous variance. This method is popularly known as Generalized ARCH or GARCH model.\n",
        "\n",
        "GARCH(1,1) is represented as: \n",
        "\n",
        "$$ \\sigma^2_n = \\omega + \\alpha u^2_{n-1} + \\beta \\sigma^2_{n-1} $$\n",
        "\n",
        "where, $\\alpha + \\beta < 1$ and $\\gamma + \\alpha + \\beta = 1$ as weight applied to long term variance cannot be negative and $\\frac {\\omega} {(1-\\alpha-\\beta)}$ is the long-run variance."
      ]
    },
    {
      "cell_type": "code",
      "execution_count": 23,
      "metadata": {},
      "outputs": [],
      "source": [
        "# Import arch library\n",
        "from arch import arch_model"
      ]
    },
    {
      "cell_type": "code",
      "execution_count": 24,
      "metadata": {},
      "outputs": [
        {
          "name": "stdout",
          "output_type": "stream",
          "text": [
            "Fitting GARCH(1,1) model...\n",
            "Model fitted successfully!\n"
          ]
        }
      ],
      "source": [
        "# Convert returns to percentage for better convergence\n",
        "stockreturn_pct = stockreturn * 100\n",
        "\n",
        "# Mean zero GARCH model\n",
        "print(\"Fitting GARCH(1,1) model...\")\n",
        "g1 = arch_model(stockreturn_pct, vol='GARCH', mean='Zero', p=1, q=1, dist='Normal')\n",
        "model = g1.fit(disp='off')  # disp='off' to suppress optimization output\n",
        "print(\"Model fitted successfully!\")"
      ]
    },
    {
      "cell_type": "code",
      "execution_count": 25,
      "metadata": {},
      "outputs": [
        {
          "name": "stdout",
          "output_type": "stream",
          "text": [
            "                       Zero Mean - GARCH Model Results                        \n",
            "==============================================================================\n",
            "Dep. Variable:              ICICIBANK   R-squared:                       0.000\n",
            "Mean Model:                 Zero Mean   Adj. R-squared:                  0.002\n",
            "Vol Model:                      GARCH   Log-Likelihood:               -800.221\n",
            "Distribution:                  Normal   AIC:                           1606.44\n",
            "Method:            Maximum Likelihood   BIC:                           1619.06\n",
            "                                        No. Observations:                  495\n",
            "Date:                Sun, Sep 28 2025   Df Residuals:                      495\n",
            "Time:                        06:23:28   Df Model:                            0\n",
            "                              Volatility Model                             \n",
            "===========================================================================\n",
            "                 coef    std err          t      P>|t|     95.0% Conf. Int.\n",
            "---------------------------------------------------------------------------\n",
            "omega          0.9954      0.207      4.798  1.605e-06    [  0.589,  1.402]\n",
            "alpha[1]       0.2376      0.132      1.801  7.177e-02 [-2.103e-02,  0.496]\n",
            "beta[1]        0.1430      0.132      1.083      0.279    [ -0.116,  0.402]\n",
            "===========================================================================\n",
            "\n",
            "Covariance estimator: robust\n"
          ]
        }
      ],
      "source": [
        "# Model output\n",
        "print(model)"
      ]
    },
    {
      "cell_type": "code",
      "execution_count": 26,
      "metadata": {},
      "outputs": [
        {
          "data": {
            "text/html": [
              "<table class=\"simpletable\">\n",
              "<caption>Zero Mean - GARCH Model Results</caption>\n",
              "<tr>\n",
              "  <th>Dep. Variable:</th>      <td>ICICIBANK</td>     <th>  R-squared:         </th>  <td>   0.000</td> \n",
              "</tr>\n",
              "<tr>\n",
              "  <th>Mean Model:</th>         <td>Zero Mean</td>     <th>  Adj. R-squared:    </th>  <td>   0.002</td> \n",
              "</tr>\n",
              "<tr>\n",
              "  <th>Vol Model:</th>            <td>GARCH</td>       <th>  Log-Likelihood:    </th> <td>  -800.221</td>\n",
              "</tr>\n",
              "<tr>\n",
              "  <th>Distribution:</th>        <td>Normal</td>       <th>  AIC:               </th> <td>   1606.44</td>\n",
              "</tr>\n",
              "<tr>\n",
              "  <th>Method:</th>        <td>Maximum Likelihood</td> <th>  BIC:               </th> <td>   1619.06</td>\n",
              "</tr>\n",
              "<tr>\n",
              "  <th></th>                        <td></td>          <th>  No. Observations:  </th>     <td>495</td>   \n",
              "</tr>\n",
              "<tr>\n",
              "  <th>Date:</th>           <td>Sun, Sep 28 2025</td>  <th>  Df Residuals:      </th>     <td>495</td>   \n",
              "</tr>\n",
              "<tr>\n",
              "  <th>Time:</th>               <td>06:23:28</td>      <th>  Df Model:          </th>      <td>0</td>    \n",
              "</tr>\n",
              "</table>\n",
              "<table class=\"simpletable\">\n",
              "<caption>Volatility Model</caption>\n",
              "<tr>\n",
              "      <td></td>        <th>coef</th>     <th>std err</th>      <th>t</th>       <th>P>|t|</th>     <th>95.0% Conf. Int.</th>  \n",
              "</tr>\n",
              "<tr>\n",
              "  <th>omega</th>    <td>    0.9954</td> <td>    0.207</td> <td>    4.798</td> <td>1.605e-06</td>   <td>[  0.589,  1.402]</td> \n",
              "</tr>\n",
              "<tr>\n",
              "  <th>alpha[1]</th> <td>    0.2376</td> <td>    0.132</td> <td>    1.801</td> <td>7.177e-02</td> <td>[-2.103e-02,  0.496]</td>\n",
              "</tr>\n",
              "<tr>\n",
              "  <th>beta[1]</th>  <td>    0.1430</td> <td>    0.132</td> <td>    1.083</td> <td>    0.279</td>   <td>[ -0.116,  0.402]</td> \n",
              "</tr>\n",
              "</table><br/><br/>Covariance estimator: robust"
            ],
            "text/latex": [
              "\\begin{center}\n",
              "\\begin{tabular}{lclc}\n",
              "\\toprule\n",
              "\\textbf{Dep. Variable:} &     ICICIBANK      & \\textbf{  R-squared:         } &     0.000   \\\\\n",
              "\\textbf{Mean Model:}    &     Zero Mean      & \\textbf{  Adj. R-squared:    } &     0.002   \\\\\n",
              "\\textbf{Vol Model:}     &       GARCH        & \\textbf{  Log-Likelihood:    } &   -800.221  \\\\\n",
              "\\textbf{Distribution:}  &       Normal       & \\textbf{  AIC:               } &    1606.44  \\\\\n",
              "\\textbf{Method:}        & Maximum Likelihood & \\textbf{  BIC:               } &    1619.06  \\\\\n",
              "\\textbf{}               &                    & \\textbf{  No. Observations:  } &    495      \\\\\n",
              "\\textbf{Date:}          &  Sun, Sep 28 2025  & \\textbf{  Df Residuals:      } &    495      \\\\\n",
              "\\textbf{Time:}          &      06:23:28      & \\textbf{  Df Model:          } &     0       \\\\\n",
              "\\bottomrule\n",
              "\\end{tabular}\n",
              "\\begin{tabular}{lccccc}\n",
              "                  & \\textbf{coef} & \\textbf{std err} & \\textbf{t} & \\textbf{P$> |$t$|$} & \\textbf{95.0\\% Conf. Int.}  \\\\\n",
              "\\midrule\n",
              "\\textbf{omega}    &       0.9954  &        0.207     &     4.798  &      1.605e-06       &     [  0.589,  1.402]       \\\\\n",
              "\\textbf{alpha[1]} &       0.2376  &        0.132     &     1.801  &      7.177e-02       &    [-2.103e-02,  0.496]     \\\\\n",
              "\\textbf{beta[1]}  &       0.1430  &        0.132     &     1.083  &          0.279       &     [ -0.116,  0.402]       \\\\\n",
              "\\bottomrule\n",
              "\\end{tabular}\n",
              "%\\caption{Zero Mean - GARCH Model Results}\n",
              "\\end{center}\n",
              "\n",
              "Covariance estimator: robust"
            ],
            "text/plain": [
              "<class 'statsmodels.iolib.summary.Summary'>\n",
              "\"\"\"\n",
              "                       Zero Mean - GARCH Model Results                        \n",
              "==============================================================================\n",
              "Dep. Variable:              ICICIBANK   R-squared:                       0.000\n",
              "Mean Model:                 Zero Mean   Adj. R-squared:                  0.002\n",
              "Vol Model:                      GARCH   Log-Likelihood:               -800.221\n",
              "Distribution:                  Normal   AIC:                           1606.44\n",
              "Method:            Maximum Likelihood   BIC:                           1619.06\n",
              "                                        No. Observations:                  495\n",
              "Date:                Sun, Sep 28 2025   Df Residuals:                      495\n",
              "Time:                        06:23:28   Df Model:                            0\n",
              "                              Volatility Model                             \n",
              "===========================================================================\n",
              "                 coef    std err          t      P>|t|     95.0% Conf. Int.\n",
              "---------------------------------------------------------------------------\n",
              "omega          0.9954      0.207      4.798  1.605e-06    [  0.589,  1.402]\n",
              "alpha[1]       0.2376      0.132      1.801  7.177e-02 [-2.103e-02,  0.496]\n",
              "beta[1]        0.1430      0.132      1.083      0.279    [ -0.116,  0.402]\n",
              "===========================================================================\n",
              "\n",
              "Covariance estimator: robust\n",
              "\"\"\""
            ]
          },
          "execution_count": 26,
          "metadata": {},
          "output_type": "execute_result"
        }
      ],
      "source": [
        "# Model summary\n",
        "model.summary()"
      ]
    },
    {
      "cell_type": "code",
      "execution_count": 27,
      "metadata": {},
      "outputs": [
        {
          "name": "stdout",
          "output_type": "stream",
          "text": [
            "Model Parameters:\n",
            "omega: 0.995365\n",
            "alpha[1]: 0.237580\n",
            "beta[1]: 0.143008\n"
          ]
        }
      ],
      "source": [
        "# Model parameters\n",
        "print(\"Model Parameters:\")\n",
        "for param, value in model.params.items():\n",
        "    print(f\"{param}: {value:.6f}\")"
      ]
    },
    {
      "cell_type": "code",
      "execution_count": 28,
      "metadata": {},
      "outputs": [
        {
          "name": "stdout",
          "output_type": "stream",
          "text": [
            "99% Confidence Intervals:\n",
            "           lower   upper\n",
            "omega     0.4610  1.5298\n",
            "alpha[1] -0.1023  0.5775\n",
            "beta[1]  -0.1973  0.4833\n"
          ]
        }
      ],
      "source": [
        "# Model Confidence Interval\n",
        "conf_int = model.conf_int(alpha=.01)\n",
        "print(\"99% Confidence Intervals:\")\n",
        "print(conf_int)"
      ]
    },
    {
      "cell_type": "code",
      "execution_count": 29,
      "metadata": {},
      "outputs": [
        {
          "data": {
            "image/png": "[encoded data removed]",
            "text/plain": [
              "<Figure size 640x480 with 2 Axes>"
            ]
          },
          "metadata": {},
          "output_type": "display_data"
        }
      ],
      "source": [
        "# Plot annualised volatility\n",
        "fig = model.plot(annualize='D')"
      ]
    },
    {
      "cell_type": "code",
      "execution_count": 31,
      "metadata": {},
      "outputs": [
        {
          "name": "stdout",
          "output_type": "stream",
          "text": [
            "Generating volatility forecast...\n"
          ]
        },
        {
          "data": {
            "application/vnd.plotly.v1+json": {
              "config": {
                "plotlyServerURL": "https://plot.ly"
              },
              "data": [
                {
                  "hovertemplate": "Days Ahead=%{x}<br>Annualized Volatility (%)=%{y}<extra></extra>",
                  "legendgroup": "",
                  "line": {
                    "color": "red",
                    "dash": "solid"
                  },
                  "marker": {
                    "symbol": "circle"
                  },
                  "mode": "lines",
                  "name": "",
                  "orientation": "v",
                  "showlegend": false,
                  "type": "scatter",
                  "x": {
                    "bdata": "AQIDBAUGBwgJCgsMDQ4PEBESExQVFhcYGRobHB0eHyAhIiMkJSYnKCkqKywtLi8wMTIzNDU2Nzg5Ojs8",
                    "dtype": "i1"
                  },
                  "xaxis": "x",
                  "y": {
                    "bdata": "ZtmB69X7pED5Bc4BTOihQEnz31BelqBAnspY5nYOoEC10aYrF7OfQKRj2fZxip9AJcZWE+x6n0BOs5elAXWfQH0O+vrAcp9AGoIid+Vxn0A7dxLqkXGfQGvaaR1ycZ9ABL0jA2Zxn0DCrPdnYXGfQKD9L6dfcZ9ARwlj/F5xn0CR0WG7XnGfQMdcpKJecZ9A/us5mV5xn0A1iaSVXnGfQLNjR5RecZ9AIYLCk15xn0Bu74+TXnGfQBKwfJNecZ9AxVx1k15xn0AOk3KTXnGfQGyDcZNecZ9ACxxxk15xn0Cz9HCTXnGfQLrlcJNecZ9AB+Bwk15xn0Db3XCTXnGfQAjdcJNecZ9AuNxwk15xn0CZ3HCTXnGfQI7ccJNecZ9Aidxwk15xn0CI3HCTXnGfQIbccJNecZ9Ahtxwk15xn0CG3HCTXnGfQIbccJNecZ9Ahtxwk15xn0CG3HCTXnGfQIbccJNecZ9Ahtxwk15xn0CG3HCTXnGfQIbccJNecZ9Ahtxwk15xn0CG3HCTXnGfQIbccJNecZ9Ahtxwk15xn0CG3HCTXnGfQIbccJNecZ9Ahtxwk15xn0CG3HCTXnGfQIbccJNecZ9Ahtxwk15xn0CG3HCTXnGfQIbccJNecZ9A",
                    "dtype": "f8"
                  },
                  "yaxis": "y"
                }
              ],
              "layout": {
                "height": 600,
                "legend": {
                  "tracegroupgap": 0
                },
                "template": {
                  "data": {
                    "bar": [
                      {
                        "error_x": {
                          "color": "#2a3f5f"
                        },
                        "error_y": {
                          "color": "#2a3f5f"
                        },
                        "marker": {
                          "line": {
                            "color": "#E5ECF6",
                            "width": 0.5
                          },
                          "pattern": {
                            "fillmode": "overlay",
                            "size": 10,
                            "solidity": 0.2
                          }
                        },
                        "type": "bar"
                      }
                    ],
                    "barpolar": [
                      {
                        "marker": {
                          "line": {
                            "color": "#E5ECF6",
                            "width": 0.5
                          },
                          "pattern": {
                            "fillmode": "overlay",
                            "size": 10,
                            "solidity": 0.2
                          }
                        },
                        "type": "barpolar"
                      }
                    ],
                    "carpet": [
                      {
                        "aaxis": {
                          "endlinecolor": "#2a3f5f",
                          "gridcolor": "white",
                          "linecolor": "white",
                          "minorgridcolor": "white",
                          "startlinecolor": "#2a3f5f"
                        },
                        "baxis": {
                          "endlinecolor": "#2a3f5f",
                          "gridcolor": "white",
                          "linecolor": "white",
                          "minorgridcolor": "white",
                          "startlinecolor": "#2a3f5f"
                        },
                        "type": "carpet"
                      }
                    ],
                    "choropleth": [
                      {
                        "colorbar": {
                          "outlinewidth": 0,
                          "ticks": ""
                        },
                        "type": "choropleth"
                      }
                    ],
                    "contour": [
                      {
                        "colorbar": {
                          "outlinewidth": 0,
                          "ticks": ""
                        },
                        "colorscale": [
                          [
                            0,
                            "#0d0887"
                          ],
                          [
                            0.1111111111111111,
                            "#46039f"
                          ],
                          [
                            0.2222222222222222,
                            "#7201a8"
                          ],
                          [
                            0.3333333333333333,
                            "#9c179e"
                          ],
                          [
                            0.4444444444444444,
                            "#bd3786"
                          ],
                          [
                            0.5555555555555556,
                            "#d8576b"
                          ],
                          [
                            0.6666666666666666,
                            "#ed7953"
                          ],
                          [
                            0.7777777777777778,
                            "#fb9f3a"
                          ],
                          [
                            0.8888888888888888,
                            "#fdca26"
                          ],
                          [
                            1,
                            "#f0f921"
                          ]
                        ],
                        "type": "contour"
                      }
                    ],
                    "contourcarpet": [
                      {
                        "colorbar": {
                          "outlinewidth": 0,
                          "ticks": ""
                        },
                        "type": "contourcarpet"
                      }
                    ],
                    "heatmap": [
                      {
                        "colorbar": {
                          "outlinewidth": 0,
                          "ticks": ""
                        },
                        "colorscale": [
                          [
                            0,
                            "#0d0887"
                          ],
                          [
                            0.1111111111111111,
                            "#46039f"
                          ],
                          [
                            0.2222222222222222,
                            "#7201a8"
                          ],
                          [
                            0.3333333333333333,
                            "#9c179e"
                          ],
                          [
                            0.4444444444444444,
                            "#bd3786"
                          ],
                          [
                            0.5555555555555556,
                            "#d8576b"
                          ],
                          [
                            0.6666666666666666,
                            "#ed7953"
                          ],
                          [
                            0.7777777777777778,
                            "#fb9f3a"
                          ],
                          [
                            0.8888888888888888,
                            "#fdca26"
                          ],
                          [
                            1,
                            "#f0f921"
                          ]
                        ],
                        "type": "heatmap"
                      }
                    ],
                    "histogram": [
                      {
                        "marker": {
                          "pattern": {
                            "fillmode": "overlay",
                            "size": 10,
                            "solidity": 0.2
                          }
                        },
                        "type": "histogram"
                      }
                    ],
                    "histogram2d": [
                      {
                        "colorbar": {
                          "outlinewidth": 0,
                          "ticks": ""
                        },
                        "colorscale": [
                          [
                            0,
                            "#0d0887"
                          ],
                          [
                            0.1111111111111111,
                            "#46039f"
                          ],
                          [
                            0.2222222222222222,
                            "#7201a8"
                          ],
                          [
                            0.3333333333333333,
                            "#9c179e"
                          ],
                          [
                            0.4444444444444444,
                            "#bd3786"
                          ],
                          [
                            0.5555555555555556,
                            "#d8576b"
                          ],
                          [
                            0.6666666666666666,
                            "#ed7953"
                          ],
                          [
                            0.7777777777777778,
                            "#fb9f3a"
                          ],
                          [
                            0.8888888888888888,
                            "#fdca26"
                          ],
                          [
                            1,
                            "#f0f921"
                          ]
                        ],
                        "type": "histogram2d"
                      }
                    ],
                    "histogram2dcontour": [
                      {
                        "colorbar": {
                          "outlinewidth": 0,
                          "ticks": ""
                        },
                        "colorscale": [
                          [
                            0,
                            "#0d0887"
                          ],
                          [
                            0.1111111111111111,
                            "#46039f"
                          ],
                          [
                            0.2222222222222222,
                            "#7201a8"
                          ],
                          [
                            0.3333333333333333,
                            "#9c179e"
                          ],
                          [
                            0.4444444444444444,
                            "#bd3786"
                          ],
                          [
                            0.5555555555555556,
                            "#d8576b"
                          ],
                          [
                            0.6666666666666666,
                            "#ed7953"
                          ],
                          [
                            0.7777777777777778,
                            "#fb9f3a"
                          ],
                          [
                            0.8888888888888888,
                            "#fdca26"
                          ],
                          [
                            1,
                            "#f0f921"
                          ]
                        ],
                        "type": "histogram2dcontour"
                      }
                    ],
                    "mesh3d": [
                      {
                        "colorbar": {
                          "outlinewidth": 0,
                          "ticks": ""
                        },
                        "type": "mesh3d"
                      }
                    ],
                    "parcoords": [
                      {
                        "line": {
                          "colorbar": {
                            "outlinewidth": 0,
                            "ticks": ""
                          }
                        },
                        "type": "parcoords"
                      }
                    ],
                    "pie": [
                      {
                        "automargin": true,
                        "type": "pie"
                      }
                    ],
                    "scatter": [
                      {
                        "fillpattern": {
                          "fillmode": "overlay",
                          "size": 10,
                          "solidity": 0.2
                        },
                        "type": "scatter"
                      }
                    ],
                    "scatter3d": [
                      {
                        "line": {
                          "colorbar": {
                            "outlinewidth": 0,
                            "ticks": ""
                          }
                        },
                        "marker": {
                          "colorbar": {
                            "outlinewidth": 0,
                            "ticks": ""
                          }
                        },
                        "type": "scatter3d"
                      }
                    ],
                    "scattercarpet": [
                      {
                        "marker": {
                          "colorbar": {
                            "outlinewidth": 0,
                            "ticks": ""
                          }
                        },
                        "type": "scattercarpet"
                      }
                    ],
                    "scattergeo": [
                      {
                        "marker": {
                          "colorbar": {
                            "outlinewidth": 0,
                            "ticks": ""
                          }
                        },
                        "type": "scattergeo"
                      }
                    ],
                    "scattergl": [
                      {
                        "marker": {
                          "colorbar": {
                            "outlinewidth": 0,
                            "ticks": ""
                          }
                        },
                        "type": "scattergl"
                      }
                    ],
                    "scattermap": [
                      {
                        "marker": {
                          "colorbar": {
                            "outlinewidth": 0,
                            "ticks": ""
                          }
                        },
                        "type": "scattermap"
                      }
                    ],
                    "scattermapbox": [
                      {
                        "marker": {
                          "colorbar": {
                            "outlinewidth": 0,
                            "ticks": ""
                          }
                        },
                        "type": "scattermapbox"
                      }
                    ],
                    "scatterpolar": [
                      {
                        "marker": {
                          "colorbar": {
                            "outlinewidth": 0,
                            "ticks": ""
                          }
                        },
                        "type": "scatterpolar"
                      }
                    ],
                    "scatterpolargl": [
                      {
                        "marker": {
                          "colorbar": {
                            "outlinewidth": 0,
                            "ticks": ""
                          }
                        },
                        "type": "scatterpolargl"
                      }
                    ],
                    "scatterternary": [
                      {
                        "marker": {
                          "colorbar": {
                            "outlinewidth": 0,
                            "ticks": ""
                          }
                        },
                        "type": "scatterternary"
                      }
                    ],
                    "surface": [
                      {
                        "colorbar": {
                          "outlinewidth": 0,
                          "ticks": ""
                        },
                        "colorscale": [
                          [
                            0,
                            "#0d0887"
                          ],
                          [
                            0.1111111111111111,
                            "#46039f"
                          ],
                          [
                            0.2222222222222222,
                            "#7201a8"
                          ],
                          [
                            0.3333333333333333,
                            "#9c179e"
                          ],
                          [
                            0.4444444444444444,
                            "#bd3786"
                          ],
                          [
                            0.5555555555555556,
                            "#d8576b"
                          ],
                          [
                            0.6666666666666666,
                            "#ed7953"
                          ],
                          [
                            0.7777777777777778,
                            "#fb9f3a"
                          ],
                          [
                            0.8888888888888888,
                            "#fdca26"
                          ],
                          [
                            1,
                            "#f0f921"
                          ]
                        ],
                        "type": "surface"
                      }
                    ],
                    "table": [
                      {
                        "cells": {
                          "fill": {
                            "color": "#EBF0F8"
                          },
                          "line": {
                            "color": "white"
                          }
                        },
                        "header": {
                          "fill": {
                            "color": "#C8D4E3"
                          },
                          "line": {
                            "color": "white"
                          }
                        },
                        "type": "table"
                      }
                    ]
                  },
                  "layout": {
                    "annotationdefaults": {
                      "arrowcolor": "#2a3f5f",
                      "arrowhead": 0,
                      "arrowwidth": 1
                    },
                    "autotypenumbers": "strict",
                    "coloraxis": {
                      "colorbar": {
                        "outlinewidth": 0,
                        "ticks": ""
                      }
                    },
                    "colorscale": {
                      "diverging": [
                        [
                          0,
                          "#8e0152"
                        ],
                        [
                          0.1,
                          "#c51b7d"
                        ],
                        [
                          0.2,
                          "#de77ae"
                        ],
                        [
                          0.3,
                          "#f1b6da"
                        ],
                        [
                          0.4,
                          "#fde0ef"
                        ],
                        [
                          0.5,
                          "#f7f7f7"
                        ],
                        [
                          0.6,
                          "#e6f5d0"
                        ],
                        [
                          0.7,
                          "#b8e186"
                        ],
                        [
                          0.8,
                          "#7fbc41"
                        ],
                        [
                          0.9,
                          "#4d9221"
                        ],
                        [
                          1,
                          "#276419"
                        ]
                      ],
                      "sequential": [
                        [
                          0,
                          "#0d0887"
                        ],
                        [
                          0.1111111111111111,
                          "#46039f"
                        ],
                        [
                          0.2222222222222222,
                          "#7201a8"
                        ],
                        [
                          0.3333333333333333,
                          "#9c179e"
                        ],
                        [
                          0.4444444444444444,
                          "#bd3786"
                        ],
                        [
                          0.5555555555555556,
                          "#d8576b"
                        ],
                        [
                          0.6666666666666666,
                          "#ed7953"
                        ],
                        [
                          0.7777777777777778,
                          "#fb9f3a"
                        ],
                        [
                          0.8888888888888888,
                          "#fdca26"
                        ],
                        [
                          1,
                          "#f0f921"
                        ]
                      ],
                      "sequentialminus": [
                        [
                          0,
                          "#0d0887"
                        ],
                        [
                          0.1111111111111111,
                          "#46039f"
                        ],
                        [
                          0.2222222222222222,
                          "#7201a8"
                        ],
                        [
                          0.3333333333333333,
                          "#9c179e"
                        ],
                        [
                          0.4444444444444444,
                          "#bd3786"
                        ],
                        [
                          0.5555555555555556,
                          "#d8576b"
                        ],
                        [
                          0.6666666666666666,
                          "#ed7953"
                        ],
                        [
                          0.7777777777777778,
                          "#fb9f3a"
                        ],
                        [
                          0.8888888888888888,
                          "#fdca26"
                        ],
                        [
                          1,
                          "#f0f921"
                        ]
                      ]
                    },
                    "colorway": [
                      "#636efa",
                      "#EF553B",
                      "#00cc96",
                      "#ab63fa",
                      "#FFA15A",
                      "#19d3f3",
                      "#FF6692",
                      "#B6E880",
                      "#FF97FF",
                      "#FECB52"
                    ],
                    "font": {
                      "color": "#2a3f5f"
                    },
                    "geo": {
                      "bgcolor": "white",
                      "lakecolor": "white",
                      "landcolor": "#E5ECF6",
                      "showlakes": true,
                      "showland": true,
                      "subunitcolor": "white"
                    },
                    "hoverlabel": {
                      "align": "left"
                    },
                    "hovermode": "closest",
                    "mapbox": {
                      "style": "light"
                    },
                    "paper_bgcolor": "white",
                    "plot_bgcolor": "#E5ECF6",
                    "polar": {
                      "angularaxis": {
                        "gridcolor": "white",
                        "linecolor": "white",
                        "ticks": ""
                      },
                      "bgcolor": "#E5ECF6",
                      "radialaxis": {
                        "gridcolor": "white",
                        "linecolor": "white",
                        "ticks": ""
                      }
                    },
                    "scene": {
                      "xaxis": {
                        "backgroundcolor": "#E5ECF6",
                        "gridcolor": "white",
                        "gridwidth": 2,
                        "linecolor": "white",
                        "showbackground": true,
                        "ticks": "",
                        "zerolinecolor": "white"
                      },
                      "yaxis": {
                        "backgroundcolor": "#E5ECF6",
                        "gridcolor": "white",
                        "gridwidth": 2,
                        "linecolor": "white",
                        "showbackground": true,
                        "ticks": "",
                        "zerolinecolor": "white"
                      },
                      "zaxis": {
                        "backgroundcolor": "#E5ECF6",
                        "gridcolor": "white",
                        "gridwidth": 2,
                        "linecolor": "white",
                        "showbackground": true,
                        "ticks": "",
                        "zerolinecolor": "white"
                      }
                    },
                    "shapedefaults": {
                      "line": {
                        "color": "#2a3f5f"
                      }
                    },
                    "ternary": {
                      "aaxis": {
                        "gridcolor": "white",
                        "linecolor": "white",
                        "ticks": ""
                      },
                      "baxis": {
                        "gridcolor": "white",
                        "linecolor": "white",
                        "ticks": ""
                      },
                      "bgcolor": "#E5ECF6",
                      "caxis": {
                        "gridcolor": "white",
                        "linecolor": "white",
                        "ticks": ""
                      }
                    },
                    "title": {
                      "x": 0.05
                    },
                    "xaxis": {
                      "automargin": true,
                      "gridcolor": "white",
                      "linecolor": "white",
                      "ticks": "",
                      "title": {
                        "standoff": 15
                      },
                      "zerolinecolor": "white",
                      "zerolinewidth": 2
                    },
                    "yaxis": {
                      "automargin": true,
                      "gridcolor": "white",
                      "linecolor": "white",
                      "ticks": "",
                      "title": {
                        "standoff": 15
                      },
                      "zerolinecolor": "white",
                      "zerolinewidth": 2
                    }
                  }
                },
                "title": {
                  "text": "GARCH Volatility Forecast (60 Days)"
                },
                "width": 1000,
                "xaxis": {
                  "anchor": "y",
                  "domain": [
                    0,
                    1
                  ],
                  "title": {
                    "text": "Days Ahead"
                  }
                },
                "yaxis": {
                  "anchor": "x",
                  "domain": [
                    0,
                    1
                  ],
                  "title": {
                    "text": "Annualized Volatility (%)"
                  }
                }
              }
            }
          },
          "metadata": {},
          "output_type": "display_data"
        }
      ],
      "source": [
        "# Forecast for next 60 days\n",
        "print(\"Generating volatility forecast...\")\n",
        "\n",
        "# Generate forecast\n",
        "model_forecast = model.forecast(horizon=60)\n",
        "\n",
        "# Extract variance forecast properly\n",
        "forecast_var = model_forecast.variance.dropna()\n",
        "forecast_values = forecast_var.iloc[-1, :].values  # Last row contains 60-day forecast\n",
        "\n",
        "# Convert to annualized volatility percentage\n",
        "forecast_vol_pct = np.sqrt(forecast_values * 252) * 100\n",
        "\n",
        "# Create proper DataFrame\n",
        "forecast_df = pd.DataFrame({\n",
        "    'Days_Ahead': np.arange(1, len(forecast_vol_pct) + 1),\n",
        "    'Volatility_Pct': forecast_vol_pct\n",
        "})\n",
        "\n",
        "# Create plot with explicit x and y\n",
        "fig = px.line(forecast_df, x='Days_Ahead', y='Volatility_Pct',\n",
        "              title='GARCH Volatility Forecast (60 Days)',\n",
        "              labels={'Days_Ahead': 'Days Ahead', \n",
        "                     'Volatility_Pct': 'Annualized Volatility (%)'})\n",
        "fig.update_traces(line_color='red')\n",
        "fig.show()\n"
      ]
    },
    {
      "cell_type": "markdown",
      "metadata": {},
      "source": [
        "## Summary\n",
        "\n",
        "This notebook demonstrates various Value at Risk (VaR) methodologies and GARCH volatility modeling using real stock data from Yahoo Finance. The analysis includes:\n",
        "\n",
        "1. **Parametric VaR**: Assumes normal distribution of returns\n",
        "2. **Historical VaR**: Uses empirical quantiles of historical returns\n",
        "3. **Monte Carlo VaR**: Simulates returns based on historical parameters\n",
        "4. **Modified VaR**: Incorporates skewness and kurtosis\n",
        "5. **Conditional VaR (CVaR)**: Expected loss beyond VaR threshold\n",
        "6. **Portfolio VaR**: Risk measurement for multi-asset portfolios\n",
        "7. **GARCH Model**: Dynamic volatility forecasting\n",
        "\n",
        "The Yahoo Finance integration makes this analysis easily reproducible with current market data for any publicly traded stocks."
      ]
    },
    {
      "cell_type": "markdown",
      "metadata": {},
      "source": []
    }
  ],
  "metadata": {
    "kernelspec": {
      "display_name": ".venv",
      "language": "python",
      "name": "python3"
    },
    "language_info": {
      "codemirror_mode": {
        "name": "ipython",
        "version": 3
      },
      "file_extension": ".py",
      "mimetype": "text/x-python",
      "name": "python",
      "nbconvert_exporter": "python",
      "pygments_lexer": "ipython3",
      "version": "3.11.9"
    }
  },
  "nbformat": 4,
  "nbformat_minor": 4
}
